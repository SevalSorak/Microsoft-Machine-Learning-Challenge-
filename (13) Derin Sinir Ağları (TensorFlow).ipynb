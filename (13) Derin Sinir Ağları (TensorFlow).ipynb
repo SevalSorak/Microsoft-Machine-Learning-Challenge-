{
 "cells": [
  {
   "cell_type": "markdown",
   "id": "c576ac4c",
   "metadata": {},
   "source": [
    "# TensorFlow ile Derin Öğrenme\n",
    "\n",
    "Klasik makine öğrenimi, özellikler ve etiketler arasındaki ilişkileri belirlemek için istatistiklerin kullanılmasına dayanır ve tahmine dayalı modeller oluşturmak için çok etkili olabilir. Bununla birlikte, verilerin işlenmesi için gereken bilgi işlem teknolojisindeki ilerlemelerle birleştiğinde, verilerin kullanılabilirliğindeki büyük artış, beynin yapay sinir ağı adı verilen bir yapıdaki bilgileri işleme biçimini taklit eden yeni makine öğrenimi tekniklerinin ortaya çıkmasına yol açmıştır.\n",
    "\n",
    "TensorFlow, derin sinir ağları (DNN'ler) dahil olmak üzere makine öğrenimi modelleri oluşturmaya yönelik bir çerçevedir. Bu örnekte, penguenleri gagalarının (gaga) uzunluğuna ve derinliğine, yüzgeç uzunluğuna ve vücut kütlelerine göre türlere ayıran basit bir sinir ağı oluşturmak için Tensorflow'u kullanacağız.\n",
    "\n",
    "## Veri kümesini keşfetme\n",
    "\n",
    "Bir model oluşturmak için TensorFlow'u kullanmaya başlamadan önce, üç farklı penguen türünün gözlemlerini içeren Palmer Adaları penguenleri veri kümesinden ihtiyacımız olan verileri yükleyelim.\n",
    "\n",
    "> **Not**: Gerçekte, penguen sınıflandırma problemini derin bir öğrenme modeline ihtiyaç duymadan klasik makine öğrenimi tekniklerini kullanarak kolayca çözebilirsiniz; ancak bu not defterindeki sinir ağlarının ilkelerini göstermek için yararlı, anlaşılması kolay bir veri kümesidir."
   ]
  },
  {
   "cell_type": "code",
   "execution_count": 1,
   "id": "a4968e61",
   "metadata": {},
   "outputs": [],
   "source": [
    "import numpy as np\n",
    "import pandas as pd\n",
    "import matplotlib.pyplot as plt\n",
    "\n",
    "import warnings\n",
    "warnings.filterwarnings(\"ignore\")"
   ]
  },
  {
   "cell_type": "code",
   "execution_count": 2,
   "id": "3b34ef94",
   "metadata": {},
   "outputs": [],
   "source": [
    "df = pd.read_csv(\"penguins.csv\")"
   ]
  },
  {
   "cell_type": "code",
   "execution_count": 3,
   "id": "117283f3",
   "metadata": {},
   "outputs": [
    {
     "data": {
      "text/html": [
       "<div>\n",
       "<style scoped>\n",
       "    .dataframe tbody tr th:only-of-type {\n",
       "        vertical-align: middle;\n",
       "    }\n",
       "\n",
       "    .dataframe tbody tr th {\n",
       "        vertical-align: top;\n",
       "    }\n",
       "\n",
       "    .dataframe thead th {\n",
       "        text-align: right;\n",
       "    }\n",
       "</style>\n",
       "<table border=\"1\" class=\"dataframe\">\n",
       "  <thead>\n",
       "    <tr style=\"text-align: right;\">\n",
       "      <th></th>\n",
       "      <th>CulmenLength</th>\n",
       "      <th>CulmenDepth</th>\n",
       "      <th>FlipperLength</th>\n",
       "      <th>BodyMass</th>\n",
       "      <th>Species</th>\n",
       "    </tr>\n",
       "  </thead>\n",
       "  <tbody>\n",
       "    <tr>\n",
       "      <th>0</th>\n",
       "      <td>39.1</td>\n",
       "      <td>18.7</td>\n",
       "      <td>181.0</td>\n",
       "      <td>3750.0</td>\n",
       "      <td>0</td>\n",
       "    </tr>\n",
       "    <tr>\n",
       "      <th>1</th>\n",
       "      <td>39.5</td>\n",
       "      <td>17.4</td>\n",
       "      <td>186.0</td>\n",
       "      <td>3800.0</td>\n",
       "      <td>0</td>\n",
       "    </tr>\n",
       "    <tr>\n",
       "      <th>2</th>\n",
       "      <td>40.3</td>\n",
       "      <td>18.0</td>\n",
       "      <td>195.0</td>\n",
       "      <td>3250.0</td>\n",
       "      <td>0</td>\n",
       "    </tr>\n",
       "    <tr>\n",
       "      <th>3</th>\n",
       "      <td>NaN</td>\n",
       "      <td>NaN</td>\n",
       "      <td>NaN</td>\n",
       "      <td>NaN</td>\n",
       "      <td>0</td>\n",
       "    </tr>\n",
       "    <tr>\n",
       "      <th>4</th>\n",
       "      <td>36.7</td>\n",
       "      <td>19.3</td>\n",
       "      <td>193.0</td>\n",
       "      <td>3450.0</td>\n",
       "      <td>0</td>\n",
       "    </tr>\n",
       "  </tbody>\n",
       "</table>\n",
       "</div>"
      ],
      "text/plain": [
       "   CulmenLength  CulmenDepth  FlipperLength  BodyMass  Species\n",
       "0          39.1         18.7          181.0    3750.0        0\n",
       "1          39.5         17.4          186.0    3800.0        0\n",
       "2          40.3         18.0          195.0    3250.0        0\n",
       "3           NaN          NaN            NaN       NaN        0\n",
       "4          36.7         19.3          193.0    3450.0        0"
      ]
     },
     "execution_count": 3,
     "metadata": {},
     "output_type": "execute_result"
    }
   ],
   "source": [
    "df.head()"
   ]
  },
  {
   "cell_type": "code",
   "execution_count": 4,
   "id": "949af7e1",
   "metadata": {},
   "outputs": [],
   "source": [
    "df[\"FlipperLength\"] = df[\"FlipperLength\"] / 10\n",
    "df[\"BodyMass\"] = df[\"BodyMass\"] / 10"
   ]
  },
  {
   "cell_type": "code",
   "execution_count": 5,
   "id": "b84ea864",
   "metadata": {},
   "outputs": [],
   "source": [
    "for i in range(1,3):\n",
    "    df = df.append(df)"
   ]
  },
  {
   "cell_type": "code",
   "execution_count": 6,
   "id": "ed2ffa31",
   "metadata": {},
   "outputs": [
    {
     "data": {
      "text/html": [
       "<div>\n",
       "<style scoped>\n",
       "    .dataframe tbody tr th:only-of-type {\n",
       "        vertical-align: middle;\n",
       "    }\n",
       "\n",
       "    .dataframe tbody tr th {\n",
       "        vertical-align: top;\n",
       "    }\n",
       "\n",
       "    .dataframe thead th {\n",
       "        text-align: right;\n",
       "    }\n",
       "</style>\n",
       "<table border=\"1\" class=\"dataframe\">\n",
       "  <thead>\n",
       "    <tr style=\"text-align: right;\">\n",
       "      <th></th>\n",
       "      <th>CulmenLength</th>\n",
       "      <th>CulmenDepth</th>\n",
       "      <th>FlipperLength</th>\n",
       "      <th>BodyMass</th>\n",
       "      <th>Species</th>\n",
       "    </tr>\n",
       "  </thead>\n",
       "  <tbody>\n",
       "    <tr>\n",
       "      <th>343</th>\n",
       "      <td>50.2</td>\n",
       "      <td>18.7</td>\n",
       "      <td>19.8</td>\n",
       "      <td>377.5</td>\n",
       "      <td>2</td>\n",
       "    </tr>\n",
       "    <tr>\n",
       "      <th>95</th>\n",
       "      <td>40.8</td>\n",
       "      <td>18.9</td>\n",
       "      <td>20.8</td>\n",
       "      <td>430.0</td>\n",
       "      <td>0</td>\n",
       "    </tr>\n",
       "    <tr>\n",
       "      <th>168</th>\n",
       "      <td>42.0</td>\n",
       "      <td>13.5</td>\n",
       "      <td>21.0</td>\n",
       "      <td>415.0</td>\n",
       "      <td>1</td>\n",
       "    </tr>\n",
       "    <tr>\n",
       "      <th>58</th>\n",
       "      <td>36.5</td>\n",
       "      <td>16.6</td>\n",
       "      <td>18.1</td>\n",
       "      <td>285.0</td>\n",
       "      <td>0</td>\n",
       "    </tr>\n",
       "    <tr>\n",
       "      <th>180</th>\n",
       "      <td>48.2</td>\n",
       "      <td>14.3</td>\n",
       "      <td>21.0</td>\n",
       "      <td>460.0</td>\n",
       "      <td>1</td>\n",
       "    </tr>\n",
       "    <tr>\n",
       "      <th>133</th>\n",
       "      <td>37.5</td>\n",
       "      <td>18.5</td>\n",
       "      <td>19.9</td>\n",
       "      <td>447.5</td>\n",
       "      <td>0</td>\n",
       "    </tr>\n",
       "    <tr>\n",
       "      <th>196</th>\n",
       "      <td>50.5</td>\n",
       "      <td>15.9</td>\n",
       "      <td>22.2</td>\n",
       "      <td>555.0</td>\n",
       "      <td>1</td>\n",
       "    </tr>\n",
       "    <tr>\n",
       "      <th>207</th>\n",
       "      <td>45.0</td>\n",
       "      <td>15.4</td>\n",
       "      <td>22.0</td>\n",
       "      <td>505.0</td>\n",
       "      <td>1</td>\n",
       "    </tr>\n",
       "    <tr>\n",
       "      <th>83</th>\n",
       "      <td>35.1</td>\n",
       "      <td>19.4</td>\n",
       "      <td>19.3</td>\n",
       "      <td>420.0</td>\n",
       "      <td>0</td>\n",
       "    </tr>\n",
       "    <tr>\n",
       "      <th>236</th>\n",
       "      <td>44.9</td>\n",
       "      <td>13.8</td>\n",
       "      <td>21.2</td>\n",
       "      <td>475.0</td>\n",
       "      <td>1</td>\n",
       "    </tr>\n",
       "  </tbody>\n",
       "</table>\n",
       "</div>"
      ],
      "text/plain": [
       "     CulmenLength  CulmenDepth  FlipperLength  BodyMass  Species\n",
       "343          50.2         18.7           19.8     377.5        2\n",
       "95           40.8         18.9           20.8     430.0        0\n",
       "168          42.0         13.5           21.0     415.0        1\n",
       "58           36.5         16.6           18.1     285.0        0\n",
       "180          48.2         14.3           21.0     460.0        1\n",
       "133          37.5         18.5           19.9     447.5        0\n",
       "196          50.5         15.9           22.2     555.0        1\n",
       "207          45.0         15.4           22.0     505.0        1\n",
       "83           35.1         19.4           19.3     420.0        0\n",
       "236          44.9         13.8           21.2     475.0        1"
      ]
     },
     "execution_count": 6,
     "metadata": {},
     "output_type": "execute_result"
    }
   ],
   "source": [
    "sample = df.sample(10)\n",
    "sample"
   ]
  },
  {
   "cell_type": "markdown",
   "id": "b4c16671",
   "metadata": {},
   "source": [
    "**Species** sütunu, modelimizin tahmin edeceği etikettir. Her etiket değeri, 0, 1 veya 2 olarak kodlanmış bir penguen türü sınıfını temsil eder. Aşağıdaki kod, bu sınıf etiketlerinin karşılık geldiği gerçek türleri gösterir."
   ]
  },
  {
   "cell_type": "code",
   "execution_count": 7,
   "id": "8464a781",
   "metadata": {},
   "outputs": [
    {
     "name": "stdout",
     "output_type": "stream",
     "text": [
      "['CulmenLength' 'CulmenDepth' 'FlipperLength' 'BodyMass' 'Species'] SpeciesName\n",
      "[ 41.6 18.0 19.2 395.0 0 ] Adelie\n",
      "[ 37.2 18.1 17.8 390.0 0 ] Adelie\n",
      "[ 41.1 19.1 18.8 410.0 0 ] Adelie\n",
      "[ 38.7 19.0 19.5 345.0 0 ] Adelie\n",
      "[ 48.1 15.1 20.9 550.0 1 ] Gentoo\n",
      "[ 42.7 13.7 20.8 395.0 1 ] Gentoo\n",
      "[ 51.5 18.7 18.7 325.0 2 ] Chinstrap\n",
      "[ 44.5 14.3 21.6 410.0 1 ] Gentoo\n",
      "[ 36.0 18.5 18.6 310.0 0 ] Adelie\n",
      "[ 47.2 13.7 21.4 492.5 1 ] Gentoo\n"
     ]
    }
   ],
   "source": [
    "penguin_classes = [\"Adelie\", \"Gentoo\", \"Chinstrap\"]\n",
    "print(sample.columns[0:5].values, \"SpeciesName\")\n",
    "for index, row in df.sample(10).iterrows():\n",
    "    print(\"[\", row[0], row[1], row[2],row[3], int(row[4]), \"]\", penguin_classes[int(row[-1])])"
   ]
  },
  {
   "cell_type": "markdown",
   "id": "319c3528",
   "metadata": {},
   "source": [
    "Denetimli öğrenme probleminde yaygın olarak olduğu gibi, veri setini modeli eğitmek için bir kayıt setine ve eğitilen modeli doğrulamak için daha küçük bir sete ayıracağız."
   ]
  },
  {
   "cell_type": "code",
   "execution_count": 8,
   "id": "16b7c017",
   "metadata": {},
   "outputs": [],
   "source": [
    "from sklearn.model_selection import train_test_split"
   ]
  },
  {
   "cell_type": "code",
   "execution_count": 9,
   "id": "a6afc115",
   "metadata": {},
   "outputs": [
    {
     "name": "stdout",
     "output_type": "stream",
     "text": [
      "Training Set: 963\n",
      "Test Set: 413\n",
      "Sample of features and labels:\n",
      "[ 50.   15.3  22.  555. ] 1 (Gentoo)\n",
      "[ 39.6  18.1  18.6 445. ] 0 (Adelie)\n",
      "[ 40.2  17.   17.6 345. ] 0 (Adelie)\n",
      "[ 42.3  21.2  19.1 415. ] 0 (Adelie)\n",
      "[ 45.6  19.4  19.4 352.5] 2 (Chinstrap)\n",
      "[ 50.5  15.9  22.2 555. ] 1 (Gentoo)\n",
      "[ 38.2  18.1  18.5 395. ] 0 (Adelie)\n",
      "[ 38.7  19.   19.5 345. ] 0 (Adelie)\n",
      "[ 38.1  17.6  18.7 342.5] 0 (Adelie)\n",
      "[ 41.4  18.6  19.1 370. ] 0 (Adelie)\n",
      "[ 48.4  14.6  21.3 585. ] 1 (Gentoo)\n",
      "[ 36.   18.5  18.6 310. ] 0 (Adelie)\n",
      "[nan nan nan nan] 1 (Gentoo)\n",
      "[ 45.6  19.4  19.4 352.5] 2 (Chinstrap)\n",
      "[ 39.2  19.6  19.5 467.5] 0 (Adelie)\n",
      "[ 35.7  18.   20.2 355. ] 0 (Adelie)\n",
      "[ 49.6  18.2  19.3 377.5] 2 (Chinstrap)\n",
      "[ 50.1  15.   22.5 500. ] 1 (Gentoo)\n",
      "[ 39.7  18.9  18.4 355. ] 0 (Adelie)\n",
      "[ 39.1  18.7  18.1 375. ] 0 (Adelie)\n",
      "[ 59.6  17.   23.  605. ] 1 (Gentoo)\n",
      "[ 40.3  18.5  19.6 435. ] 0 (Adelie)\n",
      "[ 48.6  16.   23.  580. ] 1 (Gentoo)\n",
      "[ 51.7  20.3  19.4 377.5] 2 (Chinstrap)\n"
     ]
    }
   ],
   "source": [
    "features = [\"CulmenLength\", \"CulmenDepth\", \"FlipperLength\", \"BodyMass\"]\n",
    "label = \"Species\"\n",
    "\n",
    "X_train, X_test, y_train, y_test = train_test_split(df[features].values, df[label].values, test_size=0.30, random_state=0)\n",
    "\n",
    "print(f\"Training Set: {len(X_train)}\\nTest Set: {len(X_test)}\")\n",
    "print(\"Sample of features and labels:\")\n",
    "\n",
    "# İlk 25 eğitim özelliğine ve ilgili etiketlere göz atın\n",
    "for n in range(0,24):\n",
    "    print(X_train[n], y_train[n], \"(\" + penguin_classes[y_train[n]] + \")\")"
   ]
  },
  {
   "cell_type": "markdown",
   "id": "b91d6fda",
   "metadata": {},
   "source": [
    "*Özellikler*, her bir penguen gözleminin ölçümleridir ve *etiket*, gözlemin temsil ettiği penguen türünü (Adelie, Gentoo veya Chinstrap) gösteren sayısal bir değerdir.\n",
    "\n",
    "## TensorFlow kitaplıklarını yükleme ve içe aktarma\n",
    "\n",
    "Penguen sınıflandırıcımızı oluşturmak için TensorFlow'u kullanmayı planladığımız için, kullanmayı planladığımız kitaplıkları yüklemek ve içe aktarmak için aşağıdaki iki hücreyi çalıştırmamız gerekecek.\n",
    "\n",
    "> **Not** *Keras*, temel TensorFlow API üzerinde bir soyutlama katmanıdır. En yaygın makine öğrenimi senaryolarında, kodunuzu basitleştirmek için Keras'ı kullanabilirsiniz."
   ]
  },
  {
   "cell_type": "code",
   "execution_count": 10,
   "id": "2f25a10c",
   "metadata": {},
   "outputs": [
    {
     "name": "stdout",
     "output_type": "stream",
     "text": [
      "Libraries imported.\n",
      "Keras version: 2.12.0\n",
      "TensorFlow version: 2.12.0\n"
     ]
    }
   ],
   "source": [
    "import tensorflow\n",
    "import tensorflow as tf\n",
    "from tensorflow import keras\n",
    "from tensorflow.keras import models\n",
    "from tensorflow.keras.models import Sequential\n",
    "from tensorflow.keras.layers import Dense\n",
    "from tensorflow.keras import utils\n",
    "from tensorflow.keras import optimizers\n",
    "\n",
    "# Tekrarlanabilirlik için rastgele tohum ayarlayın\n",
    "tensorflow.random.set_seed(0)\n",
    "\n",
    "print(\"Libraries imported.\")\n",
    "print(\"Keras version:\",keras.__version__)\n",
    "print(\"TensorFlow version:\",tensorflow.__version__)"
   ]
  },
  {
   "cell_type": "markdown",
   "id": "00224f1f",
   "metadata": {},
   "source": [
    "## Verileri TensorFlow için hazırlama\n",
    "\n",
    "Verilerimizi zaten yükledik ve onu eğitim ve doğrulama veri kümelerine ayırdık. Ancak, verilerimizin TensorFlow ile doğru şekilde çalışması için biraz daha veri hazırlığı yapmamız gerekiyor. Spesifik olarak, özelliklerimizin veri türünü 32 bitlik kayan noktalı sayılara ayarlamamız ve etiketlerin sayısal değerler yerine kategorik sınıfları temsil ettiğini belirtmemiz gerekir."
   ]
  },
  {
   "cell_type": "code",
   "execution_count": 11,
   "id": "c6936903",
   "metadata": {},
   "outputs": [
    {
     "name": "stdout",
     "output_type": "stream",
     "text": [
      "Ready...\n"
     ]
    }
   ],
   "source": [
    "# Float özellikler için veri türlerini ayarlayın\n",
    "X_train = X_train.astype(\"float32\")\n",
    "X_test = X_test.astype(\"float32\")\n",
    "\n",
    "# Kategorik etiketler için veri türlerini ayarlayın\n",
    "y_train = utils.to_categorical(y_train)\n",
    "y_test = utils.to_categorical(y_test)\n",
    "print(\"Ready...\")"
   ]
  },
  {
   "cell_type": "markdown",
   "id": "4a5a5c27",
   "metadata": {},
   "source": [
    "## Bir sinir ağı tanımlama\n",
    "\n",
    "Artık sinir ağımızı tanımlamaya hazırız. Bu durumda, birbirine tamamen bağlı 3 katmandan oluşan bir ağ oluşturacağız:\n",
    "* Her özellik (bu durumda, dört penguen ölçümü) için bir giriş değeri alan ve bir *ReLU* aktivasyon işlevi uygulayan bir giriş katmanı.\n",
    "* On girdi alan ve bir *ReLU* aktivasyon işlevi uygulayan gizli bir katman.\n",
    "* Her penguen türü için bir çıktı oluşturmak üzere *SoftMax* etkinleştirme işlevini kullanan bir çıktı katmanı (bu, olası üç penguen türünün her biri için sınıflandırma olasılıklarını temsil eder). Softmax fonksiyonları, toplamı 1 olan olasılık değerlerine sahip bir vektör üretir."
   ]
  },
  {
   "cell_type": "code",
   "execution_count": 12,
   "id": "e2c960b2",
   "metadata": {},
   "outputs": [
    {
     "name": "stdout",
     "output_type": "stream",
     "text": [
      "Model: \"sequential\"\n",
      "_________________________________________________________________\n",
      " Layer (type)                Output Shape              Param #   \n",
      "=================================================================\n",
      " dense (Dense)               (None, 10)                50        \n",
      "                                                                 \n",
      " dense_1 (Dense)             (None, 10)                110       \n",
      "                                                                 \n",
      " dense_2 (Dense)             (None, 3)                 33        \n",
      "                                                                 \n",
      "=================================================================\n",
      "Total params: 193\n",
      "Trainable params: 193\n",
      "Non-trainable params: 0\n",
      "_________________________________________________________________\n",
      "None\n"
     ]
    }
   ],
   "source": [
    "# Bir sınıflandırıcı ağı tanımlayın\n",
    "hl = 10 # Gizli katman düğümü sayısı\n",
    "\n",
    "model = Sequential()\n",
    "model.add(Dense(hl, input_dim = len(features), activation = \"relu\"))\n",
    "model.add(Dense(hl, input_dim = hl, activation = \"relu\"))\n",
    "model.add(Dense(len(penguin_classes), input_dim = hl, activation = \"softmax\"))\n",
    "\n",
    "print(model.summary())"
   ]
  },
  {
   "cell_type": "markdown",
   "id": "d1d88e97",
   "metadata": {},
   "source": [
    "## Modeli eğitme\n",
    "\n",
    "Modeli eğitmek için, eğitim değerlerini ağ üzerinden tekrar tekrar beslememiz, kaybı hesaplamak için bir kayıp fonksiyonu kullanmamız, ağırlık ve yanlılık değeri ayarlamalarını geri yaymak için bir optimize edici kullanmamız ve sakladığımız test verilerini kullanarak modeli doğrulamamız gerekir.\n",
    "\n",
    "Bunu yapmak için, 50 çağın üzerinde yinelemeli olarak kategorik bir çapraz entropi kaybı işlevine bir Adam iyileştirici uygulayacağız."
   ]
  },
  {
   "cell_type": "code",
   "execution_count": 13,
   "id": "60e5cca5",
   "metadata": {},
   "outputs": [
    {
     "name": "stdout",
     "output_type": "stream",
     "text": [
      "Epoch 1/50\n",
      "97/97 [==============================] - 1s 7ms/step - loss: nan - accuracy: 0.4455 - val_loss: nan - val_accuracy: 0.4237\n",
      "Epoch 2/50\n",
      "97/97 [==============================] - 0s 4ms/step - loss: nan - accuracy: 0.4496 - val_loss: nan - val_accuracy: 0.4237\n",
      "Epoch 3/50\n",
      "97/97 [==============================] - 0s 4ms/step - loss: nan - accuracy: 0.4496 - val_loss: nan - val_accuracy: 0.4237\n",
      "Epoch 4/50\n",
      "97/97 [==============================] - 0s 4ms/step - loss: nan - accuracy: 0.4496 - val_loss: nan - val_accuracy: 0.4237\n",
      "Epoch 5/50\n",
      "97/97 [==============================] - 0s 4ms/step - loss: nan - accuracy: 0.4496 - val_loss: nan - val_accuracy: 0.4237\n",
      "Epoch 6/50\n",
      "97/97 [==============================] - 0s 5ms/step - loss: nan - accuracy: 0.4496 - val_loss: nan - val_accuracy: 0.4237\n",
      "Epoch 7/50\n",
      "97/97 [==============================] - 0s 4ms/step - loss: nan - accuracy: 0.4496 - val_loss: nan - val_accuracy: 0.4237\n",
      "Epoch 8/50\n",
      "97/97 [==============================] - 0s 4ms/step - loss: nan - accuracy: 0.4496 - val_loss: nan - val_accuracy: 0.4237\n",
      "Epoch 9/50\n",
      "97/97 [==============================] - 0s 4ms/step - loss: nan - accuracy: 0.4496 - val_loss: nan - val_accuracy: 0.4237\n",
      "Epoch 10/50\n",
      "97/97 [==============================] - 0s 4ms/step - loss: nan - accuracy: 0.4496 - val_loss: nan - val_accuracy: 0.4237\n",
      "Epoch 11/50\n",
      "97/97 [==============================] - 0s 4ms/step - loss: nan - accuracy: 0.4496 - val_loss: nan - val_accuracy: 0.4237\n",
      "Epoch 12/50\n",
      "97/97 [==============================] - 0s 4ms/step - loss: nan - accuracy: 0.4496 - val_loss: nan - val_accuracy: 0.4237\n",
      "Epoch 13/50\n",
      "97/97 [==============================] - 0s 4ms/step - loss: nan - accuracy: 0.4496 - val_loss: nan - val_accuracy: 0.4237\n",
      "Epoch 14/50\n",
      "97/97 [==============================] - 0s 4ms/step - loss: nan - accuracy: 0.4496 - val_loss: nan - val_accuracy: 0.4237\n",
      "Epoch 15/50\n",
      "97/97 [==============================] - 0s 4ms/step - loss: nan - accuracy: 0.4496 - val_loss: nan - val_accuracy: 0.4237\n",
      "Epoch 16/50\n",
      "97/97 [==============================] - 0s 4ms/step - loss: nan - accuracy: 0.4496 - val_loss: nan - val_accuracy: 0.4237\n",
      "Epoch 17/50\n",
      "97/97 [==============================] - 0s 4ms/step - loss: nan - accuracy: 0.4496 - val_loss: nan - val_accuracy: 0.4237\n",
      "Epoch 18/50\n",
      "97/97 [==============================] - 0s 4ms/step - loss: nan - accuracy: 0.4496 - val_loss: nan - val_accuracy: 0.4237\n",
      "Epoch 19/50\n",
      "97/97 [==============================] - 0s 4ms/step - loss: nan - accuracy: 0.4496 - val_loss: nan - val_accuracy: 0.4237\n",
      "Epoch 20/50\n",
      "97/97 [==============================] - 0s 4ms/step - loss: nan - accuracy: 0.4496 - val_loss: nan - val_accuracy: 0.4237\n",
      "Epoch 21/50\n",
      "97/97 [==============================] - 0s 4ms/step - loss: nan - accuracy: 0.4496 - val_loss: nan - val_accuracy: 0.4237\n",
      "Epoch 22/50\n",
      "97/97 [==============================] - 0s 3ms/step - loss: nan - accuracy: 0.4496 - val_loss: nan - val_accuracy: 0.4237\n",
      "Epoch 23/50\n",
      "97/97 [==============================] - 0s 4ms/step - loss: nan - accuracy: 0.4496 - val_loss: nan - val_accuracy: 0.4237\n",
      "Epoch 24/50\n",
      "97/97 [==============================] - 0s 4ms/step - loss: nan - accuracy: 0.4496 - val_loss: nan - val_accuracy: 0.4237\n",
      "Epoch 25/50\n",
      "97/97 [==============================] - 0s 3ms/step - loss: nan - accuracy: 0.4496 - val_loss: nan - val_accuracy: 0.4237\n",
      "Epoch 26/50\n",
      "97/97 [==============================] - 0s 3ms/step - loss: nan - accuracy: 0.4496 - val_loss: nan - val_accuracy: 0.4237\n",
      "Epoch 27/50\n",
      "97/97 [==============================] - 0s 3ms/step - loss: nan - accuracy: 0.4496 - val_loss: nan - val_accuracy: 0.4237\n",
      "Epoch 28/50\n",
      "97/97 [==============================] - 0s 4ms/step - loss: nan - accuracy: 0.4496 - val_loss: nan - val_accuracy: 0.4237\n",
      "Epoch 29/50\n",
      "97/97 [==============================] - 0s 4ms/step - loss: nan - accuracy: 0.4496 - val_loss: nan - val_accuracy: 0.4237\n",
      "Epoch 30/50\n",
      "97/97 [==============================] - 0s 3ms/step - loss: nan - accuracy: 0.4496 - val_loss: nan - val_accuracy: 0.4237\n",
      "Epoch 31/50\n",
      "97/97 [==============================] - 0s 4ms/step - loss: nan - accuracy: 0.4496 - val_loss: nan - val_accuracy: 0.4237\n",
      "Epoch 32/50\n",
      "97/97 [==============================] - 0s 4ms/step - loss: nan - accuracy: 0.4496 - val_loss: nan - val_accuracy: 0.4237\n",
      "Epoch 33/50\n",
      "97/97 [==============================] - 0s 3ms/step - loss: nan - accuracy: 0.4496 - val_loss: nan - val_accuracy: 0.4237\n",
      "Epoch 34/50\n",
      "97/97 [==============================] - 0s 4ms/step - loss: nan - accuracy: 0.4496 - val_loss: nan - val_accuracy: 0.4237\n",
      "Epoch 35/50\n",
      "97/97 [==============================] - 0s 4ms/step - loss: nan - accuracy: 0.4496 - val_loss: nan - val_accuracy: 0.4237\n",
      "Epoch 36/50\n",
      "97/97 [==============================] - 0s 4ms/step - loss: nan - accuracy: 0.4496 - val_loss: nan - val_accuracy: 0.4237\n",
      "Epoch 37/50\n",
      "97/97 [==============================] - 0s 4ms/step - loss: nan - accuracy: 0.4496 - val_loss: nan - val_accuracy: 0.4237\n",
      "Epoch 38/50\n",
      "97/97 [==============================] - 0s 4ms/step - loss: nan - accuracy: 0.4496 - val_loss: nan - val_accuracy: 0.4237\n",
      "Epoch 39/50\n",
      "97/97 [==============================] - 0s 4ms/step - loss: nan - accuracy: 0.4496 - val_loss: nan - val_accuracy: 0.4237\n",
      "Epoch 40/50\n",
      "97/97 [==============================] - 0s 4ms/step - loss: nan - accuracy: 0.4496 - val_loss: nan - val_accuracy: 0.4237\n",
      "Epoch 41/50\n",
      "97/97 [==============================] - 0s 4ms/step - loss: nan - accuracy: 0.4496 - val_loss: nan - val_accuracy: 0.4237\n",
      "Epoch 42/50\n",
      "97/97 [==============================] - 0s 4ms/step - loss: nan - accuracy: 0.4496 - val_loss: nan - val_accuracy: 0.4237\n",
      "Epoch 43/50\n",
      "97/97 [==============================] - 0s 4ms/step - loss: nan - accuracy: 0.4496 - val_loss: nan - val_accuracy: 0.4237\n",
      "Epoch 44/50\n",
      "97/97 [==============================] - 0s 4ms/step - loss: nan - accuracy: 0.4496 - val_loss: nan - val_accuracy: 0.4237\n",
      "Epoch 45/50\n",
      "97/97 [==============================] - 0s 4ms/step - loss: nan - accuracy: 0.4496 - val_loss: nan - val_accuracy: 0.4237\n",
      "Epoch 46/50\n",
      "97/97 [==============================] - 0s 4ms/step - loss: nan - accuracy: 0.4496 - val_loss: nan - val_accuracy: 0.4237\n",
      "Epoch 47/50\n",
      "97/97 [==============================] - 0s 4ms/step - loss: nan - accuracy: 0.4496 - val_loss: nan - val_accuracy: 0.4237\n",
      "Epoch 48/50\n",
      "97/97 [==============================] - 0s 4ms/step - loss: nan - accuracy: 0.4496 - val_loss: nan - val_accuracy: 0.4237\n",
      "Epoch 49/50\n",
      "97/97 [==============================] - 0s 4ms/step - loss: nan - accuracy: 0.4496 - val_loss: nan - val_accuracy: 0.4237\n",
      "Epoch 50/50\n",
      "97/97 [==============================] - 0s 4ms/step - loss: nan - accuracy: 0.4496 - val_loss: nan - val_accuracy: 0.4237\n"
     ]
    }
   ],
   "source": [
    "# optimize edici için hiper parametreler\n",
    "learning_rate = 0.001\n",
    "opt = tf.keras.optimizers.legacy.Adam(learning_rate=learning_rate)\n",
    "\n",
    "model.compile(loss=\"categorical_crossentropy\", optimizer=opt, metrics=[\"accuracy\"])\n",
    "\n",
    "# 10 gözlem grubu kullanarak ve doğrulama için test uzatma veri setini kullanarak modeli 50 epoch boyunca eğitin\n",
    "num_epochs = 50\n",
    "history = model.fit(X_train, y_train, epochs=num_epochs, batch_size=10, validation_data=(X_test, y_test))"
   ]
  },
  {
   "cell_type": "markdown",
   "id": "8de6d77a",
   "metadata": {},
   "source": [
    "Eğitim süreci devam ederken neler olduğunu anlamaya çalışalım:\n",
    "\n",
    "1. Her *dönemde*, eğitim verilerinin tamamı ağ üzerinden iletilir. Her gözlem için dört özellik ve giriş katmanında karşılık gelen dört düğüm vardır - böylece her gözlem için özellikler o katmana dört değerin bir vektörü olarak iletilir. Bununla birlikte, verimlilik için özellik vektörleri yığınlar halinde gruplandırılır; yani aslında her seferinde çoklu özellik vektörlerinden oluşan bir matris beslenir.\n",
    "2. Özellik değerleri matrisi, başlatılan ağırlıkları ve yanlılık değerlerini kullanarak ağırlıklı bir toplam gerçekleştiren bir işlev tarafından işlenir. Bu fonksiyonun sonucu daha sonra bir sonraki katmandaki düğümlere iletilen değerleri kısıtlamak için giriş katmanı için aktivasyon fonksiyonu tarafından işlenir.\n",
    "3. Ağırlıklı toplam ve aktivasyon fonksiyonları her katmanda tekrarlanır. Fonksiyonların tek tek skaler değerler yerine vektörler ve matrisler üzerinde çalıştığını unutmayın. Başka bir deyişle, ileri geçiş esasen bir dizi iç içe doğrusal cebir fonksiyonudur. Bu nedenle veri bilimcileri, matris ve vektör hesaplamaları için optimize edildiğinden, grafik işlem birimleri (GPU'lar) içeren bilgisayarları kullanmayı tercih ederler.\n",
    "4. Ağın son katmanında, çıktı vektörleri olası her sınıf için bir olasılık değeri içerir (bu durumda sınıf 0, 1 ve 2). Bu vektör, ağ tarafından hesaplanan değerlerin gerçek değerlerden ne kadar uzakta olduğunu belirlemek için bir *kayıp işlevi* tarafından işlenir - örneğin, bir Gentoo pengueni (sınıf 1) gözleminin çıktısının \\[0.3, 0.4, 0.3 olduğunu varsayalım. \\]. Doğru tahmin \\[0.0, 1.0, 0.0\\] olmalıdır, dolayısıyla tahmin edilen ve gerçek değerler arasındaki fark (öngörülen her değerin olması gerekenden ne kadar uzakta olduğu) \\[0.3, 0.6, 0.3\\] olur. Bu varyans, her küme için toplanır ve dönem için eğitim verilerinin neden olduğu genel hata düzeyini (*kayıp*) hesaplamak için çalışan bir toplama olarak korunur. Eğitim verilerinin doğruluğu (çıkış vektöründeki en yüksek olasılık değerine dayalı olarak doğru tahminlerin oranı) da hesaplanır.\n",
    "5. Her çağın sonunda doğrulama verileri ağdan geçirilir ve kaybı ve doğruluğu da hesaplanır. Bunu yapmak önemlidir, çünkü modelin performansını üzerinde eğitilmediği verileri kullanarak karşılaştırmamıza olanak tanır ve yeni veriler için iyi bir şekilde genelleştirilip genelleştirilmeyeceğini veya eğitim verilerine *fazla takılıp takılmadığını* belirlememize yardımcı olur.\n",
    "6. Tüm veriler ağ üzerinden iletildikten sonra, *eğitim* verileri için kayıp işlevinin çıktısı (ancak *doğrulama* verileri <u>değil</u>) iyileştiriciye iletilir. Optimize edicinin kaybı nasıl işlediğine ilişkin kesin ayrıntılar, kullanılan belirli optimizasyon algoritmasına bağlı olarak değişir; ancak temelde, girdi katmanından kayıp işlevine kadar tüm ağı iç içe geçmiş (*kompozit*) büyük bir işlev olarak düşünebilirsiniz. Optimize edici, ağda kullanılan her ağırlık ve yanlılık değerine göre işlevin *kısmi türevlerini* hesaplamak için bazı diferansiyel hesaplar uygular. İç ve dış fonksiyonlarının türevlerinden bileşik bir fonksiyonun türevini belirlemenizi sağlayan *zincir kuralı* adı verilen bir şey sayesinde bunu iç içe geçmiş bir fonksiyon için verimli bir şekilde yapmak mümkündür. Burada matematiğin ayrıntıları hakkında gerçekten endişelenmenize gerek yok (iyileştirici bunu sizin için yapıyor), ancak nihai sonuç, kısmi türevlerin bize kayıp fonksiyonunun eğimi (veya *gradyan*) hakkında bilgi vermesidir. her ağırlık ve sapma değerine - başka bir deyişle, kaybı azaltmak için ağırlık ve sapma değerlerini artırmayı veya azaltmayı belirleyebiliriz.\n",
    "7. Ağırlıkları ve sapmaları hangi yönde ayarlayacağına karar veren optimize edici, bunların ne kadar ayarlanacağını belirlemek için *öğrenme oranını* kullanır; ve ardından her katmandaki ağırlıklara ve sapmalara yeni değerler atamak için *geri yayılım* adı verilen bir süreçte ağ üzerinden geriye doğru çalışır.\n",
    "8. Şimdi bir sonraki çağ, önceki çağın revize edilmiş ağırlıkları ve yanlılıklarından başlayarak tüm eğitim, doğrulama ve geri yayılım sürecini tekrarlıyor - bu da daha düşük bir kayıp düzeyiyle sonuçlanacağını umarız.\n",
    "9. İşlem 50 devir bu şekilde devam eder.\n",
    "\n",
    "## Eğitimi ve doğrulama kaybını gözden geçirme\n",
    "\n",
    "Eğitim tamamlandıktan sonra, eğitim ve model doğrulama sırasında kaydettiğimiz kayıp ölçümlerini inceleyebiliriz. Gerçekten iki şey arıyoruz:\n",
    "* Kayıp her çağda azalmalıdır, bu da modelin doğru etiketleri tahmin etmek için doğru ağırlıkları ve sapmaları öğrendiğini gösterir.\n",
    "* Eğitim kaybı ve doğrulama kaybı, modelin eğitim verilerine fazla uymadığını gösterecek şekilde benzer bir eğilim izlemelidir.\n",
    "\n",
    "Kayıp ölçümlerini çizelim ve görelim:"
   ]
  },
  {
   "cell_type": "code",
   "execution_count": 23,
   "id": "e971480a",
   "metadata": {},
   "outputs": [
    {
     "data": {
      "image/png": "[encoded data removed]",
      "text/plain": [
       "<Figure size 640x480 with 1 Axes>"
      ]
     },
     "metadata": {},
     "output_type": "display_data"
    }
   ],
   "source": [
    "epoch_nums = range(1, num_epochs + 1)\n",
    "training_loss = history.history[\"loss\"]\n",
    "validation_loss = history.history[\"val_loss\"]\n",
    "plt.plot(epoch_nums, training_loss)\n",
    "plt.plot(epoch_nums, validation_loss)\n",
    "plt.xlabel(\"epoch\")\n",
    "plt.ylabel(\"loss\")\n",
    "plt.legend([\"training\", \"validation\"], loc=\"upper right\")\n",
    "plt.show()"
   ]
  },
  {
   "cell_type": "markdown",
   "id": "562c8abc",
   "metadata": {},
   "source": [
    "## Öğrenilen ağırlıkları ve önyargıları görüntüleme\n",
    "\n",
    "Eğitilen model, eğitim sırasında optimize edici tarafından belirlenen nihai ağırlıklardan ve sapmalardan oluşur. Ağ modelimize göre, her katman için aşağıdaki değerleri beklemeliyiz:\n",
    "* Katman 1: On çıkış düğümüne giden dört giriş değeri vardır, bu nedenle 4 x 10 ağırlık ve 10 sapma değeri olmalıdır.\n",
    "* Katman 2: On çıkış düğümüne giden on giriş değeri vardır, bu nedenle 10 x 10 ağırlık ve 10 sapma değeri olmalıdır.\n",
    "* Katman 3: Üç çıkış düğümüne giden on giriş değeri vardır, bu nedenle 10 x 3 ağırlık ve 3 sapma değeri olmalıdır."
   ]
  },
  {
   "cell_type": "code",
   "execution_count": 24,
   "id": "80cf3898",
   "metadata": {},
   "outputs": [
    {
     "name": "stdout",
     "output_type": "stream",
     "text": [
      "--------------\n",
      "Wights:\n",
      " [[nan nan nan nan nan nan nan nan nan nan]\n",
      " [nan nan nan nan nan nan nan nan nan nan]\n",
      " [nan nan nan nan nan nan nan nan nan nan]\n",
      " [nan nan nan nan nan nan nan nan nan nan]] \n",
      "Biases:\n",
      " [nan nan nan nan nan nan nan nan nan nan]\n",
      "--------------\n",
      "Wights:\n",
      " [[nan nan nan nan nan nan nan nan nan nan]\n",
      " [nan nan nan nan nan nan nan nan nan nan]\n",
      " [nan nan nan nan nan nan nan nan nan nan]\n",
      " [nan nan nan nan nan nan nan nan nan nan]\n",
      " [nan nan nan nan nan nan nan nan nan nan]\n",
      " [nan nan nan nan nan nan nan nan nan nan]\n",
      " [nan nan nan nan nan nan nan nan nan nan]\n",
      " [nan nan nan nan nan nan nan nan nan nan]\n",
      " [nan nan nan nan nan nan nan nan nan nan]\n",
      " [nan nan nan nan nan nan nan nan nan nan]] \n",
      "Biases:\n",
      " [nan nan nan nan nan nan nan nan nan nan]\n",
      "--------------\n",
      "Wights:\n",
      " [[nan nan nan]\n",
      " [nan nan nan]\n",
      " [nan nan nan]\n",
      " [nan nan nan]\n",
      " [nan nan nan]\n",
      " [nan nan nan]\n",
      " [nan nan nan]\n",
      " [nan nan nan]\n",
      " [nan nan nan]\n",
      " [nan nan nan]] \n",
      "Biases:\n",
      " [nan nan nan]\n"
     ]
    }
   ],
   "source": [
    "for layer in model.layers:\n",
    "    weights = layer.get_weights()[0]\n",
    "    biases = layer.get_weights()[1]\n",
    "    print(\"--------------\\nWights:\\n\", weights, \"\\nBiases:\\n\", biases)"
   ]
  },
  {
   "cell_type": "markdown",
   "id": "3e8d89aa",
   "metadata": {},
   "source": [
    "## Model performansını değerlendirme\n",
    "\n",
    "Peki model iyi mi? Doğrulama verilerinden bildirilen ham doğruluk, oldukça iyi tahmin ettiğini gösteriyor gibi görünüyor; ancak biraz daha derine inmek ve olası her sınıf için tahminleri karşılaştırmak genellikle yararlıdır. Bir sınıflandırma modelinin performansını görselleştirmenin yaygın bir yolu, her sınıf için doğru ve yanlış tahminlerin bir çapraz tablosunu gösteren bir *karışıklık matrisi* oluşturmaktır."
   ]
  },
  {
   "cell_type": "code",
   "execution_count": 14,
   "id": "d67968d2",
   "metadata": {},
   "outputs": [],
   "source": [
    "from sklearn.metrics import confusion_matrix"
   ]
  },
  {
   "cell_type": "code",
   "execution_count": 15,
   "id": "6c158159",
   "metadata": {},
   "outputs": [
    {
     "name": "stdout",
     "output_type": "stream",
     "text": [
      "13/13 [==============================] - 0s 3ms/step\n"
     ]
    },
    {
     "data": {
      "image/png": "[encoded data removed]",
      "text/plain": [
       "<Figure size 640x480 with 2 Axes>"
      ]
     },
     "metadata": {},
     "output_type": "display_data"
    }
   ],
   "source": [
    "class_probabilities = model.predict(X_test)\n",
    "predictions = np.argmax(class_probabilities, axis=1)\n",
    "true_labels = np.argmax(y_test, axis=1)\n",
    "\n",
    "cm = confusion_matrix(true_labels, predictions)\n",
    "plt.imshow(cm, interpolation=\"nearest\", cmap=plt.cm.Blues)\n",
    "plt.colorbar()\n",
    "tick_marks = np.arange(len(penguin_classes))\n",
    "plt.xticks(tick_marks, penguin_classes, rotation=85)\n",
    "plt.yticks(tick_marks, penguin_classes)\n",
    "plt.xlabel(\"Predicted Species\")\n",
    "plt.ylabel(\"Actual Species\")\n",
    "plt.show()"
   ]
  },
  {
   "cell_type": "markdown",
   "id": "3cdcbeae",
   "metadata": {},
   "source": [
    "Karışıklık matrisi, her sınıf için yanlıştan daha doğru tahmin olduğunu gösteren güçlü bir çapraz çizgi göstermelidir."
   ]
  },
  {
   "cell_type": "markdown",
   "id": "7124aec9",
   "metadata": {},
   "source": [
    "## Eğitimli modeli kullanma\n",
    "\n",
    "Yeni bir penguen gözlemimiz olduğunda, türü tahmin etmek için modeli kullanabiliriz."
   ]
  },
  {
   "cell_type": "code",
   "execution_count": 16,
   "id": "152dc417",
   "metadata": {},
   "outputs": [
    {
     "name": "stdout",
     "output_type": "stream",
     "text": [
      "New sample: [[50.4 15.3 20.  50. ]]\n"
     ]
    }
   ],
   "source": [
    "x_new = np.array([[50.4,15.3,20,50]])\n",
    "print ('New sample: {}'.format(x_new))"
   ]
  },
  {
   "cell_type": "code",
   "execution_count": 17,
   "id": "abeef8e1",
   "metadata": {},
   "outputs": [
    {
     "name": "stdout",
     "output_type": "stream",
     "text": [
      "1/1 [==============================] - 0s 41ms/step\n",
      "Adelie\n"
     ]
    }
   ],
   "source": [
    "class_probabilities = model.predict(x_new)\n",
    "predictions = np.argmax(class_probabilities, axis=1)\n",
    "\n",
    "print(penguin_classes[predictions[0]])"
   ]
  }
 ],
 "metadata": {
  "kernelspec": {
   "display_name": "Python 3 (ipykernel)",
   "language": "python",
   "name": "python3"
  },
  "language_info": {
   "codemirror_mode": {
    "name": "ipython",
    "version": 3
   },
   "file_extension": ".py",
   "mimetype": "text/x-python",
   "name": "python",
   "nbconvert_exporter": "python",
   "pygments_lexer": "ipython3",
   "version": "3.10.9"
  }
 },
 "nbformat": 4,
 "nbformat_minor": 5
}
