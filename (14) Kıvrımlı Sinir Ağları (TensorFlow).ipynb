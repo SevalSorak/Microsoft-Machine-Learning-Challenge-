{
 "cells": [
  {
   "cell_type": "markdown",
   "id": "22639535",
   "metadata": {},
   "source": [
    "# TensorFlow ile Konvolüsyonel Sinir Ağları\n",
    "\n",
    "\"Derin Öğrenme\", genellikle insan beyninin öğrenme ve karar verme şeklini sentezleyen çok katmanlı sinir ağlarının kullanımına atıfta bulunan genel bir terimdir. Evrişimli bir sinir ağı, ağırlıkları uygulamak ve kenarlar, köşeler vb. görüntü. Bu modellerin sayısal temsilleri daha sonra, özellikleri belirli sınıflara eşlemek için tamamen bağlı bir sinir ağı katmanına geçirilir.\n",
    "\n",
    "CNN'ler oluşturmak için yaygın olarak kullanılan birkaç çerçeve vardır. Bu defterde, TensorFlow kullanarak basit bir CNN örneği oluşturacağız.\n",
    "\n",
    "## Kitaplıkları kurma ve içe aktarma\n",
    "\n",
    "Öncelikle ihtiyacımız olacak TensorFlow kitaplıklarını yükleyip içe aktaralım."
   ]
  },
  {
   "cell_type": "code",
   "execution_count": 1,
   "id": "4b077548",
   "metadata": {},
   "outputs": [],
   "source": [
    "import tensorflow\n",
    "from tensorflow import keras"
   ]
  },
  {
   "cell_type": "code",
   "execution_count": 2,
   "id": "4c60ee2d",
   "metadata": {},
   "outputs": [
    {
     "name": "stdout",
     "output_type": "stream",
     "text": [
      "TensorFlow version:  2.12.0\n",
      "Keras version:  2.12.0\n"
     ]
    }
   ],
   "source": [
    "print(\"TensorFlow version: \", tensorflow.__version__)\n",
    "print(\"Keras version: \", keras.__version__)"
   ]
  },
  {
   "cell_type": "markdown",
   "id": "77ebb5d9",
   "metadata": {},
   "source": [
    "## Verileri keşfetme\n",
    "\n",
    "Bu alıştırmada, geometrik şekillerin görüntülerini sınıflandırabilen CNN tabanlı bir sınıflandırma modeli eğiteceksiniz. Modelin tanımlaması gereken şekil sınıflarına bir göz atalım."
   ]
  },
  {
   "cell_type": "code",
   "execution_count": 3,
   "id": "74923da0",
   "metadata": {},
   "outputs": [],
   "source": [
    "import matplotlib.pyplot as plt\n",
    "import matplotlib.image as mpimg\n",
    "import os"
   ]
  },
  {
   "cell_type": "code",
   "execution_count": 5,
   "id": "2fd1846e",
   "metadata": {},
   "outputs": [],
   "source": [
    "data_folder = r\"C:\\Users\\PC\\Documents\\Machine Learning Challenge\\Notebook\\shapes\""
   ]
  },
  {
   "cell_type": "code",
   "execution_count": 8,
   "id": "ecd97f2d",
   "metadata": {},
   "outputs": [],
   "source": [
    "# Sınıf isimlerini alın\n",
    "classes = os.listdir(data_folder)\n",
    "classes.sort()"
   ]
  },
  {
   "cell_type": "code",
   "execution_count": 9,
   "id": "32ea1a13",
   "metadata": {},
   "outputs": [
    {
     "name": "stdout",
     "output_type": "stream",
     "text": [
      "3 classes: \n",
      "['circle', 'square', 'triangle']\n"
     ]
    }
   ],
   "source": [
    "print(len(classes), \"classes: \")\n",
    "print(classes)"
   ]
  },
  {
   "cell_type": "code",
   "execution_count": 10,
   "id": "5eb9811d",
   "metadata": {},
   "outputs": [
    {
     "data": {
      "image/png": "[encoded data removed]",
      "text/plain": [
       "<Figure size 800x1200 with 3 Axes>"
      ]
     },
     "metadata": {},
     "output_type": "display_data"
    }
   ],
   "source": [
    "# Her klasördeki ilk resmi gösterin\n",
    "fig = plt.figure(figsize=(8,12))\n",
    "i = 0\n",
    "# i adında bir sayaç değişkeni oluşturulur. \n",
    "# Bu sayaç, alt klasörlerdeki resimlerin sıralı olarak ekrana yerleştirilmesine yardımcı olacak.\n",
    "for sub_dir in os.listdir(data_folder):\n",
    "    # data_folder dizinindeki alt klasörleri sub_dir adıyla teker teker dolaşmak için bir döngü oluşturulur.\n",
    "    i += 1\n",
    "    # Her alt klasör için sayaç bir artırılır. Bu, her alt klasördeki resmi farklı bir konuma yerleştirmek için kullanılacak.\n",
    "    img_file = os.listdir(os.path.join(data_folder, sub_dir))[0]\n",
    "    #  Alt klasördeki resim dosyalarından ilkini seçmek için os.listdir() fonksiyonu kullanılır.\n",
    "    img_path = os.path.join(data_folder, sub_dir, img_file)\n",
    "    # Seçilen resmin tam yolunu oluşturmak için os.path.join() fonksiyonu kullanılır.\n",
    "    img = mpimg.imread(img_path)\n",
    "    # Seçilen resim, mpimg.imread() fonksiyonu ile okunur ve img değişkenine atanır.\n",
    "    a = fig.add_subplot(1, len(classes), i)\n",
    "    # Resimlerin görüntüleneceği alt pencere (subplot) oluşturulur. Bu, birden fazla resmi yan yana eklemek için kullanılır.\n",
    "    # 1, len(classes) ifadesi, satır ve sütun sayısını belirtirken, i de resmin konumunu belirler.\n",
    "    a.axis(\"off\")\n",
    "    # Alt pencere üzerindeki eksenleri (eksen işaretleyicileri ve etiketleri) kapatır, böylece resimler çıplak olarak görüntülenir.\n",
    "    imgplot = plt.imshow(img)\n",
    "    # Resmi alt pencerede görüntülemek için imshow() fonksiyonu kullanılır.\n",
    "    a.set_title(img_file)\n",
    "    # Alt pencereye resmin adını (dosya adını) eklemek için set_title() fonksiyonu kullanılır.\n",
    "plt.show()    "
   ]
  },
  {
   "cell_type": "markdown",
   "id": "150e9157",
   "metadata": {},
   "source": [
    "## Verileri hazırlama\n",
    "\n",
    "Modeli eğitmeden önce verileri hazırlamamız gerekiyor. Özellik değerlerini 255'e bölerek 0 ile 1 arasında kayan nokta değerleri olarak normalleştireceğiz ve verileri bölerek %70'ini modeli eğitmek için kullanacağız ve %30'unu doğrulamak için geri tutacağız . Verileri yüklerken, veri oluşturucu, verilerin depolandığı alt klasörlere göre her görüntünün hangi sınıfa ait olduğunu belirtmek için \"sıcak kodlanmış\" sayısal etiketler atayacaktır. Bu durumda, üç alt klasör vardır - *daire*, *kare* ve *üçgen*, dolayısıyla etiketler, bu sınıflardan hangisinin resimle ilişkilendirildiğini gösteren üç *0* veya *1* değerinden oluşacaktır - örneğin [0 1 0] etiketi görüntünün ikinci sınıfa (*kare*) ait olduğunu belirtir."
   ]
  },
  {
   "cell_type": "code",
   "execution_count": 11,
   "id": "932d2969",
   "metadata": {},
   "outputs": [],
   "source": [
    "from tensorflow.keras.preprocessing.image import ImageDataGenerator"
   ]
  },
  {
   "cell_type": "code",
   "execution_count": 12,
   "id": "96de22dd",
   "metadata": {},
   "outputs": [
    {
     "name": "stdout",
     "output_type": "stream",
     "text": [
      "Veri Alınıyor...\n"
     ]
    }
   ],
   "source": [
    "img_size = (128, 128) # Resimlerin hedef boyutunu belirten bir demet (tuple) tanımlanır.\n",
    "batch_size = 30 #  Eğitim ve validasyon sırasında her adımda işlenecek resim sayısını belirleyen bir değişken tanımlanır. \n",
    "# Batch size, bellek kullanımını optimize etmeye yardımcı olur.\n",
    "\n",
    "print(\"Veri Alınıyor...\")\n",
    "datagen = ImageDataGenerator(rescale=1./255, # piksel değerlerini normalleştirin\n",
    "                             validation_split=0.3) # doğrulama için görüntülerin %30'unu geri alın\n",
    "# ImageDataGenerator sınıfı, resimleri verimli bir şekilde yüklemek, ön işlemek ve artırma(augmentation) yapmak için kullanılır.\n",
    "# rescale özelliği, piksel değerlerini [0, 1] aralığına normalize etmek için kullanılır. \n",
    "# validation_split özelliği, veri kümesinin ne kadarının doğrulama için ayrılacağını belirler (bu durumda %30)."
   ]
  },
  {
   "cell_type": "code",
   "execution_count": 13,
   "id": "4d895dde",
   "metadata": {},
   "outputs": [
    {
     "name": "stdout",
     "output_type": "stream",
     "text": [
      "Eğitim veri seti hazırlanıyor...\n",
      "Found 840 images belonging to 3 classes.\n"
     ]
    }
   ],
   "source": [
    "print(\"Eğitim veri seti hazırlanıyor...\")\n",
    "train_generator = datagen.flow_from_directory(data_folder,\n",
    "                                              target_size=img_size,\n",
    "                                              batch_size=batch_size,\n",
    "                                              class_mode=\"categorical\",\n",
    "                                              subset=\"training\")\n",
    "# ImageDataGenerator nesnesinin flow_from_directory yöntemi, veri kümesini belirtilen dizin yapısından yüklemek için kullanılır.\n",
    "# data_folder: Eğitim veri kümesinin bulunduğu ana klasörün yolunu belirtir. \n",
    "# target_size=img_size: Resimlerin hedef boyutunu belirtir. \n",
    "# batch_size=batch_size: Eğitim verilerinin her adımda modele kaç resimle besleneceğini belirtir.\n",
    "# class_mode='categorical': Veri kümesinin sınıf modunu belirtir. 'categorical' olarak ayarlandığı için, \n",
    "# sınıflar one-hot encoding ile temsil edilir.\n",
    "# subset='training': Veri kümesinin alt kümelerinden hangisinin oluşturulacağını belirtir. \n",
    "# Bu durumda, eğitim verileri için kullanılacak alt küme oluşturulur."
   ]
  },
  {
   "cell_type": "code",
   "execution_count": 14,
   "id": "5e9ffa20",
   "metadata": {},
   "outputs": [
    {
     "name": "stdout",
     "output_type": "stream",
     "text": [
      "Doğrulama veri kümesi hazırlanıyor...\n",
      "Found 360 images belonging to 3 classes.\n"
     ]
    }
   ],
   "source": [
    "print(\"Doğrulama veri kümesi hazırlanıyor...\")\n",
    "validation_generator = datagen.flow_from_directory(data_folder,\n",
    "                                                   target_size=img_size,\n",
    "                                                   batch_size=batch_size,\n",
    "                                                   class_mode=\"categorical\",\n",
    "                                                   subset=\"validation\")"
   ]
  },
  {
   "cell_type": "code",
   "execution_count": 15,
   "id": "4270b101",
   "metadata": {},
   "outputs": [
    {
     "name": "stdout",
     "output_type": "stream",
     "text": [
      "Veri oluşturucular hazır\n"
     ]
    }
   ],
   "source": [
    "classnames = list(train_generator.class_indices.keys())\n",
    "# Eğitim veri üretecindeki sınıf etiketlerini classnames adlı bir liste olarak alır. \n",
    "# Bu, modelin tahminleriyle gerçek sınıf etiketlerini eşleştirmek için kullanılabilir. \n",
    "print(\"Veri oluşturucular hazır\")"
   ]
  },
  {
   "cell_type": "markdown",
   "id": "250f59b6",
   "metadata": {},
   "source": [
    "## CNN'yi tanımlama\n",
    "\n",
    "Artık modelimizi oluşturmaya hazırız. Bu, CNN'imiz için katmanları tanımlamayı ve çok sınıflı sınıflandırma için bunları derlemeyi içerir."
   ]
  },
  {
   "cell_type": "code",
   "execution_count": 18,
   "id": "5d31cce6",
   "metadata": {},
   "outputs": [],
   "source": [
    "# Bir CNN sınıflandırıcı ağı tanımlayın\n",
    "from tensorflow.keras.models import Sequential\n",
    "from tensorflow.keras.layers import Conv2D, MaxPooling2D, Dropout, Flatten, Dense"
   ]
  },
  {
   "cell_type": "code",
   "execution_count": 19,
   "id": "1f8d5fe8",
   "metadata": {},
   "outputs": [
    {
     "name": "stdout",
     "output_type": "stream",
     "text": [
      "Model: \"sequential_1\"\n",
      "_________________________________________________________________\n",
      " Layer (type)                Output Shape              Param #   \n",
      "=================================================================\n",
      " conv2d (Conv2D)             (None, 123, 123, 32)      3488      \n",
      "                                                                 \n",
      " max_pooling2d (MaxPooling2D  (None, 61, 61, 32)       0         \n",
      " )                                                               \n",
      "                                                                 \n",
      " conv2d_1 (Conv2D)           (None, 56, 56, 32)        36896     \n",
      "                                                                 \n",
      " max_pooling2d_1 (MaxPooling  (None, 28, 28, 32)       0         \n",
      " 2D)                                                             \n",
      "                                                                 \n",
      " conv2d_2 (Conv2D)           (None, 23, 23, 32)        36896     \n",
      "                                                                 \n",
      " max_pooling2d_2 (MaxPooling  (None, 11, 11, 32)       0         \n",
      " 2D)                                                             \n",
      "                                                                 \n",
      " dropout (Dropout)           (None, 11, 11, 32)        0         \n",
      "                                                                 \n",
      " flatten (Flatten)           (None, 3872)              0         \n",
      "                                                                 \n",
      " dense (Dense)               (None, 3)                 11619     \n",
      "                                                                 \n",
      "=================================================================\n",
      "Total params: 88,899\n",
      "Trainable params: 88,899\n",
      "Non-trainable params: 0\n",
      "_________________________________________________________________\n",
      "None\n"
     ]
    }
   ],
   "source": [
    "# Modeli bir katman dizisi olarak tanımlayın\n",
    "model = Sequential()\n",
    "\n",
    "# Giriş katmanı bir görüntüyü kabul eder ve 32 6x6 filtre ve düzeltilmiş doğrusal birim aktivasyon işlevi \n",
    "# kullanan bir evrişim uygular\n",
    "model.add(Conv2D(32, (6, 6), input_shape=train_generator.image_shape, activation=\"relu\"))\n",
    "# Modelin ilk katmanı olarak bir 2D evrişimli katman (Convolutional Layer) eklenir. \n",
    "# Bu katmanda 32 adet 6x6 boyutunda filtre kullanılır ve ReLU (Rectified Linear Unit) aktivasyon fonksiyonu uygulanır. \n",
    "# input_shape argümanı, modelin giriş boyutunu belirler ve train_generator.image_shape olarak tanımlanan hedef boyuta uygun olmalıdır.\n",
    "\n",
    "# Ardından, 2x2 yama ile bir maksimum havuzlama katmanı ekleyeceğiz\n",
    "model.add(MaxPooling2D(pool_size=(2, 2)))\n",
    "# Bu katman, 2x2 boyutunda bir maksimum öğenin alınmasıyla resim boyutunu yarıya indirir.\n",
    "\n",
    "# Gerekli olduğunu düşündüğümüz kadar katman ekleyebiliriz - burada başka bir evrişim ve maksimum havuzlama katmanı ekleyeceğiz.\n",
    "model.add(Conv2D(32, (6, 6), activation=\"relu\"))\n",
    "model.add(MaxPooling2D(pool_size=(2, 2)))\n",
    "\n",
    "# Ve bir takım daha\n",
    "model.add(Conv2D(32, (6, 6), activation=\"relu\"))\n",
    "model.add(MaxPooling2D(pool_size=(2, 2)))\n",
    "\n",
    "# Bir bırakma katmanı, karşılıklı bağımlılıkları azaltmak için bazı düğümleri rasgele bırakır (bu, aşırı sığdırmaya neden olabilir)\n",
    "model.add(Dropout(0.2))\n",
    "# Dropout, aşırı uyumu önlemek için bazı düğümlerin rastgele olarak bırakılmasıyla eğitim sırasında ağın üzerindeki \n",
    "# etkileşimleri azaltır. Burada, %20 olasılıkla düğümler rastgele bırakılır.\n",
    "\n",
    "# Özellik haritalarını düzleştirin\n",
    "model.add(Flatten())\n",
    "# Flatten katmanı, evrişimli katmanların 2D çıktılarını tek bir uzun vektöre dönüştürür. \n",
    "# Bu, tam bağlantılı (fully connected) katmanlara geçiş yapabilmek için gereklidir.\n",
    "\n",
    "# Her sınıf için tahmini bir olasılıkla tam bağlantılı bir çıktı katmanı oluşturun\n",
    "# (softmax, tüm olasılıkların toplamının 1 olmasını sağlar)\n",
    "model.add(Dense(train_generator.num_classes, activation=\"softmax\"))\n",
    "# Modelin bu katmanından, her sınıf için tahmin edilen olasılıkları içeren bir vektör üretilir. \n",
    "# train_generator.num_classes, eğitim veri üretecindeki sınıf sayısını temsil eder ve bu, çıktı katmanının boyutunu belirler. \n",
    "# softmax aktivasyon fonksiyonu, çıktıların olasılık değerlerine dönüştürülmesini sağlar.\n",
    "\n",
    "# Tanımlanan katmanlar ile artık modeli kategorik (çok sınıflı) sınıflandırma için derleyebiliriz\n",
    "model.compile(loss=\"categorical_crossentropy\",\n",
    "              optimizer=\"adam\",\n",
    "              metrics=[\"accuracy\"])\n",
    "# Model, eğitim için hazır hale getirilir. \n",
    "# Kayıp fonksiyonu (loss) olarak kategorik çapraz entropi (categorical crossentropy) kullanılır, \n",
    "# çünkü bu bir çok sınıflı (categorical) sınıflandırma problemidir. \n",
    "# Optimizasyon algoritması olarak 'adam' kullanılır ve doğruluk (accuracy) metriği kullanılır.\n",
    "\n",
    "print(model.summary())"
   ]
  },
  {
   "cell_type": "markdown",
   "id": "36f4d399",
   "metadata": {},
   "source": [
    "## Modeli eğitme\n",
    "\n",
    "Tanımlanan CNN katmanları ile, görüntü verilerimizi kullanarak modeli eğitmeye hazırız. Aşağıdaki örnekte, doğrulama için verilerin %30'unu tutarak, modeli 30 resimlik gruplar halinde eğitmek için 5 yineleme (*dönem*) kullanıyoruz. Her dönemden sonra, kayıp işlevi modeldeki hatayı (*kayıp*) ölçer ve doğruluğu artırmaya çalışmak için (ilk yineleme için rastgele oluşturulmuş) ağırlıkları ayarlar.\n",
    "\n",
    "> **Not**: Bu basit örnekte eğitim süresini en aza indirmek için yalnızca 5 dönem kullanıyoruz. Gerçek dünyadaki bir CNN genellikle bundan daha fazla çağda eğitilir. CNN modeli eğitimi, çok sayıda matris ve vektör tabanlı işlemi içeren işlemci yoğun bir eğitimdir; bu nedenle, bu tür hesaplamalar için optimize edilmiş GPU'lardan yararlanabilen bir sistemde bunu gerçekleştirmeniz önerilir. CPU tabanlı bir sistemde bunun tamamlanması biraz zaman alacaktır - eğitim ilerledikçe durum görüntülenecektir."
   ]
  },
  {
   "cell_type": "code",
   "execution_count": 20,
   "id": "2c1a94b6",
   "metadata": {},
   "outputs": [
    {
     "name": "stdout",
     "output_type": "stream",
     "text": [
      "Epoch 1/5\n",
      "28/28 [==============================] - 45s 2s/step - loss: 0.7085 - accuracy: 0.6310 - val_loss: 0.2850 - val_accuracy: 0.9111\n",
      "Epoch 2/5\n",
      "28/28 [==============================] - 36s 1s/step - loss: 0.2159 - accuracy: 0.9179 - val_loss: 0.0635 - val_accuracy: 0.9972\n",
      "Epoch 3/5\n",
      "28/28 [==============================] - 31s 1s/step - loss: 0.0472 - accuracy: 0.9833 - val_loss: 0.0086 - val_accuracy: 1.0000\n",
      "Epoch 4/5\n",
      "28/28 [==============================] - 34s 1s/step - loss: 0.0125 - accuracy: 0.9964 - val_loss: 0.0092 - val_accuracy: 0.9972\n",
      "Epoch 5/5\n",
      "28/28 [==============================] - 34s 1s/step - loss: 0.0132 - accuracy: 0.9964 - val_loss: 0.0048 - val_accuracy: 1.0000\n"
     ]
    }
   ],
   "source": [
    "# Modeli 30 resimlik gruplar ve doğrulama için doğrulama uzatma veri setini kullanarak 5 dönem boyunca eğitin\n",
    "num_epochs = 5\n",
    "# num_epochs, eğitim sırasında modelin kaç tur (epoch) boyunca eğitileceğini belirten değişkendir.\n",
    "history = model.fit(train_generator, \n",
    "                    # Eğitim veri üretecisini belirtir. Model, eğitim verilerini bu veri üreteci üzerinden alır.\n",
    "                    steps_per_epoch=train_generator.samples // batch_size,\n",
    "                    # Eğitim verilerinin her bir epoch için kaç adımda bir güncelleneceğini belirler. \n",
    "                    # Bu değer, eğitim veri üretecindeki toplam veri sayısının batch_size ile bölümünün tam kısmıdır.\n",
    "                    validation_data=validation_generator,\n",
    "                    # Doğrulama veri üretecisini belirtir. Model, doğrulama verilerini bu veri üreteci üzerinden alır.\n",
    "                    validation_steps=validation_generator.samples // batch_size,\n",
    "                    # Doğrulama verilerinin her bir epoch için kaç adımda bir değerlendirileceğini belirler. \n",
    "                    # Bu değer, doğrulama veri üretecindeki toplam veri sayısının batch_size ile bölümünün tam kısmıdır.\n",
    "                    epochs=num_epochs\n",
    "                    # Eğitimde kaç tane epoch yapılacağını belirtir.\n",
    "                    )"
   ]
  },
  {
   "cell_type": "markdown",
   "id": "08f75180",
   "metadata": {},
   "source": [
    "## Kayıp geçmişini görüntüleme\n",
    "\n",
    "Her dönem için ortalama eğitim ve doğrulama kaybı geçmişini takip ettik. Model eğitildikçe kaybın azaldığını doğrulamak ve *fazla uydurmayı* tespit etmek için bunları çizebiliriz (bu, doğrulama kaybı dengelendikten veya artmaya başladıktan sonra eğitim kaybında devam eden düşüşle gösterilir)."
   ]
  },
  {
   "cell_type": "code",
   "execution_count": null,
   "id": "afd35158",
   "metadata": {},
   "outputs": [],
   "source": [
    "from matplotlib import pyplot as plt"
   ]
  },
  {
   "cell_type": "code",
   "execution_count": 22,
   "id": "ff977e93",
   "metadata": {},
   "outputs": [
    {
     "data": {
      "image/png": "[encoded data removed]",
      "text/plain": [
       "<Figure size 640x480 with 1 Axes>"
      ]
     },
     "metadata": {},
     "output_type": "display_data"
    }
   ],
   "source": [
    "epoch_nums = range(1, num_epochs+1)\n",
    "training_loss = history.history[\"loss\"]\n",
    "validation_loss = history.history[\"val_loss\"]\n",
    "plt.plot(epoch_nums, training_loss, color = \"#ec0844\")\n",
    "plt.plot(epoch_nums, validation_loss, color = \"#4955f7\")\n",
    "plt.xlabel(\"epoch\")\n",
    "plt.ylabel(\"loss\")\n",
    "plt.legend([\"training\", \"validation\"], loc = \"upper right\")\n",
    "plt.show()"
   ]
  },
  {
   "cell_type": "markdown",
   "id": "6c125b9e",
   "metadata": {},
   "source": [
    "## Model performansını değerlendirme\n",
    "\n",
    "Test verilerine dayalı olarak nihai doğruluğu görebiliriz, ancak genellikle performans metriklerini biraz daha derinlemesine araştırmak isteriz. Modelin her sınıfı ne kadar iyi tahmin ettiğini görmek için bir karışıklık matrisi çizelim."
   ]
  },
  {
   "cell_type": "code",
   "execution_count": 26,
   "id": "99963927",
   "metadata": {},
   "outputs": [],
   "source": [
    "import numpy as np\n",
    "import seaborn as sns\n",
    "from sklearn.metrics import confusion_matrix"
   ]
  },
  {
   "cell_type": "code",
   "execution_count": 29,
   "id": "bf2186fa",
   "metadata": {},
   "outputs": [
    {
     "name": "stdout",
     "output_type": "stream",
     "text": [
      "Doğrulama verilerinden tahminler oluşturuluyor...\n",
      "1/1 [==============================] - 0s 154ms/step\n"
     ]
    },
    {
     "data": {
      "image/png": "[encoded data removed]",
      "text/plain": [
       "<Figure size 640x480 with 2 Axes>"
      ]
     },
     "metadata": {},
     "output_type": "display_data"
    }
   ],
   "source": [
    "print(\"Doğrulama verilerinden tahminler oluşturuluyor...\")\n",
    "# Doğrulama verilerinin ilk grubu için görüntü ve etiket dizilerini alın\n",
    "x_test = validation_generator[0][0]\n",
    "y_test = validation_generator[0][1]\n",
    "# validation_generator doğrulama veri üreteciyi temsil eder. \n",
    "# Bu satırlarda, doğrulama veri üretecinin ilk grubundaki (batch) resim ve etiket dizilerini \n",
    "# x_test ve y_test değişkenlerine atar. Burada, sadece ilk gruptaki verilere odaklanılmıştır.\n",
    "\n",
    "# Sınıfı tahmin etmek için modeli kullanın\n",
    "class_probabilities = model.predict(x_test)\n",
    "\n",
    "# Model, her sınıf için bir olasılık değeri döndürür\n",
    "# Olasılığı en yüksek olan tahmin edilen sınıftır\n",
    "predictions = np.argmax(class_probabilities, axis=1)\n",
    "\n",
    "# Gerçek etiketler sıcak kodlanmıştır (ör. [0 1 0], bu nedenle 1 değerine sahip olanı alın\n",
    "true_labels = np.argmax(y_test, axis=1)\n",
    "\n",
    "# Karışıklık matrisini çizin\n",
    "cm = confusion_matrix(true_labels, predictions)\n",
    "plt.imshow(cm, interpolation=\"nearest\", cmap=sns.light_palette(\"royalblue\", as_cmap=True))\n",
    "plt.colorbar()\n",
    "tick_marks = np.arange(len(classnames))\n",
    "plt.xticks(tick_marks, classnames, rotation=85)\n",
    "plt.yticks(tick_marks, classnames)\n",
    "plt.xlabel(\"Predicted Shape\")\n",
    "plt.ylabel(\"Actual Shape\")\n",
    "plt.show()"
   ]
  },
  {
   "cell_type": "markdown",
   "id": "0a2656b5",
   "metadata": {},
   "source": [
    "## Eğitimli modeli kullanma"
   ]
  },
  {
   "cell_type": "code",
   "execution_count": 30,
   "id": "b0039b8f",
   "metadata": {},
   "outputs": [],
   "source": [
    "from tensorflow.keras import models\n",
    "from random import randint"
   ]
  },
  {
   "cell_type": "code",
   "execution_count": 36,
   "id": "cb6914d1",
   "metadata": {},
   "outputs": [],
   "source": [
    "# Bir görüntünün sınıfını tahmin etme işlevi\n",
    "def predict_image(classifier, image):\n",
    "    from tensorflow import convert_to_tensor\n",
    "\n",
    "    # Model, girdi olarak bir dizi görüntü bekliyor, bu nedenle 1 görüntüden oluşan bir dizi oluşturacağız\n",
    "    imgfeatures = image.reshape(1, image.shape[0], image.shape[1], image.shape[2])\n",
    "    \n",
    "    # Girdiyi eğitim verileriyle eşleşecek şekilde biçimlendirmemiz gerekiyor\n",
    "    # Oluşturucu, değerleri kayan noktalı sayılar olarak yükledi\n",
    "    # ve piksel değerlerini normalleştirdi, yani...\n",
    "    \n",
    "    imgfeatures = imgfeatures.astype(\"float32\")\n",
    "    imgfeatures /= 255\n",
    "    \n",
    "    # Görüntü sınıfını tahmin etmek için modeli kullanın\n",
    "    class_probabilities = classifier.predict(imgfeatures)\n",
    "    \n",
    "    # Tahmin edilen en yüksek olasılığa sahip sınıf tahminlerini bulun\n",
    "    index = int(np.argmax(class_probabilities, axis=1)[0])\n",
    "    return index\n",
    "\n",
    "# Rastgele bir görüntü oluşturma işlevi (kare, daire veya üçgenden)\n",
    "def create_image(size, shape):\n",
    "    from PIL import Image, ImageDraw\n",
    "    \n",
    "    xy1 = randint(10,40)\n",
    "    xy2 = randint(60,100)\n",
    "    col = (randint(0,200), randint(0,200), randint(0,200))\n",
    "    \n",
    "    img = Image.new(\"RGB\", size, (255, 255, 255))\n",
    "    draw = ImageDraw.Draw(img)\n",
    "    \n",
    "    if shape == \"circle\":\n",
    "        draw.ellipse([(xy1, xy1), (xy2, xy2)], fill = col)\n",
    "    elif shape == \"triangle\":\n",
    "        draw.polygon([(xy1,xy1), (xy2,xy2), (xy2,xy1)], fill=col)\n",
    "    else:\n",
    "        draw.rectangle([(xy1,xy1), (xy2,xy2)], fill=col)\n",
    "    del draw\n",
    "    \n",
    "    return np.array(img)"
   ]
  },
  {
   "cell_type": "code",
   "execution_count": 37,
   "id": "14b745ed",
   "metadata": {},
   "outputs": [
    {
     "name": "stdout",
     "output_type": "stream",
     "text": [
      "1/1 [==============================] - 0s 58ms/step\n",
      "circle\n"
     ]
    },
    {
     "data": {
      "image/png": "[encoded data removed]",
      "text/plain": [
       "<Figure size 640x480 with 1 Axes>"
      ]
     },
     "metadata": {},
     "output_type": "display_data"
    }
   ],
   "source": [
    "# Rastgele bir test görüntüsü oluşturun\n",
    "classnames = os.listdir(data_folder)\n",
    "classnames.sort()\n",
    "img = create_image((128, 128), classnames[randint(0, len(classnames)-1)])\n",
    "plt.axis(\"off\")\n",
    "plt.imshow(img)\n",
    "\n",
    "# Sınıfı tahmin etmek için sınıflandırıcıyı kullanın\n",
    "class_idx = predict_image(model, img)\n",
    "print(classnames[class_idx])"
   ]
  }
 ],
 "metadata": {
  "kernelspec": {
   "display_name": "Python 3 (ipykernel)",
   "language": "python",
   "name": "python3"
  },
  "language_info": {
   "codemirror_mode": {
    "name": "ipython",
    "version": 3
   },
   "file_extension": ".py",
   "mimetype": "text/x-python",
   "name": "python",
   "nbconvert_exporter": "python",
   "pygments_lexer": "ipython3",
   "version": "3.10.9"
  }
 },
 "nbformat": 4,
 "nbformat_minor": 5
}
