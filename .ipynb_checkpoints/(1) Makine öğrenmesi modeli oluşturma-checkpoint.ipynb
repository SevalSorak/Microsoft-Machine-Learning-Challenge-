{
 "cells": [
  {
   "cell_type": "markdown",
   "id": "641f4182",
   "metadata": {},
   "source": [
    "* Modellerin, bir tahminde bulunmak veya karar vermek için bilgileri işleyen bilgisayar kodları olduğunu öğrendik. Burada, onlara uyan emniyet kemerinin boyutuna bağlı olarak bir köpek için rahat bir çizme boyutunu tahmin edecek bir model eğiteceğiz."
   ]
  },
  {
   "cell_type": "code",
   "execution_count": 1,
   "id": "c85f0a5c",
   "metadata": {},
   "outputs": [],
   "source": [
    "import pandas"
   ]
  },
  {
   "cell_type": "code",
   "execution_count": 2,
   "id": "17d64193",
   "metadata": {},
   "outputs": [],
   "source": [
    "data = {\"boot_size\" :    [ 39, 38, 37, 39, 38, 35, 37, 36, 35, 40, \n",
    "                           40, 36, 38, 39, 42, 42, 36, 36, 35, 41, \n",
    "                           42, 38, 37, 35, 40, 36, 35, 39, 41, 37, \n",
    "                           35, 41, 39, 41, 42, 42, 36, 37, 37, 39,\n",
    "                           42, 35, 36, 41, 41, 41, 39, 39, 35, 39],\n",
    "        \"harness_size\" : [ 58, 58, 52, 58, 57, 52, 55, 53, 49, 54,\n",
    "                           59, 56, 53, 58, 57, 58, 56, 51, 50, 59,\n",
    "                           59, 59, 55, 50, 55, 52, 53, 54, 61, 56,\n",
    "                           55, 60, 57, 56, 61, 58, 53, 57, 57, 55,\n",
    "                           60, 51, 52, 56, 55, 57, 58, 57, 51, 59]}"
   ]
  },
  {
   "cell_type": "code",
   "execution_count": 3,
   "id": "8a983962",
   "metadata": {},
   "outputs": [],
   "source": [
    "dataset = pandas.DataFrame(data)"
   ]
  },
  {
   "cell_type": "code",
   "execution_count": 5,
   "id": "5ec7c33c",
   "metadata": {},
   "outputs": [
    {
     "data": {
      "text/html": [
       "<div>\n",
       "<style scoped>\n",
       "    .dataframe tbody tr th:only-of-type {\n",
       "        vertical-align: middle;\n",
       "    }\n",
       "\n",
       "    .dataframe tbody tr th {\n",
       "        vertical-align: top;\n",
       "    }\n",
       "\n",
       "    .dataframe thead th {\n",
       "        text-align: right;\n",
       "    }\n",
       "</style>\n",
       "<table border=\"1\" class=\"dataframe\">\n",
       "  <thead>\n",
       "    <tr style=\"text-align: right;\">\n",
       "      <th></th>\n",
       "      <th>boot_size</th>\n",
       "      <th>harness_size</th>\n",
       "    </tr>\n",
       "  </thead>\n",
       "  <tbody>\n",
       "    <tr>\n",
       "      <th>0</th>\n",
       "      <td>39</td>\n",
       "      <td>58</td>\n",
       "    </tr>\n",
       "    <tr>\n",
       "      <th>1</th>\n",
       "      <td>38</td>\n",
       "      <td>58</td>\n",
       "    </tr>\n",
       "    <tr>\n",
       "      <th>2</th>\n",
       "      <td>37</td>\n",
       "      <td>52</td>\n",
       "    </tr>\n",
       "    <tr>\n",
       "      <th>3</th>\n",
       "      <td>39</td>\n",
       "      <td>58</td>\n",
       "    </tr>\n",
       "    <tr>\n",
       "      <th>4</th>\n",
       "      <td>38</td>\n",
       "      <td>57</td>\n",
       "    </tr>\n",
       "  </tbody>\n",
       "</table>\n",
       "</div>"
      ],
      "text/plain": [
       "   boot_size  harness_size\n",
       "0         39            58\n",
       "1         38            58\n",
       "2         37            52\n",
       "3         39            58\n",
       "4         38            57"
      ]
     },
     "execution_count": 5,
     "metadata": {},
     "output_type": "execute_result"
    }
   ],
   "source": [
    "dataset.head()"
   ]
  },
  {
   "cell_type": "markdown",
   "id": "a123d20e",
   "metadata": {},
   "source": [
    "* Yapmamız gereken ilk şey bir model seçmek. Daha yeni başlıyoruz, bu yüzden OLS adı verilen çok basit bir modelle başlayacağız. Bu sadece düz bir çizgidir (bazen trend çizgisi olarak adlandırılır)."
   ]
  },
  {
   "cell_type": "code",
   "execution_count": 6,
   "id": "84faf99e",
   "metadata": {},
   "outputs": [],
   "source": [
    "import statsmodels.formula.api as smf\n",
    "# Bu modül, formüller kullanarak istatistiksel modeller oluşturmayı sağlar."
   ]
  },
  {
   "cell_type": "code",
   "execution_count": 7,
   "id": "f4791661",
   "metadata": {},
   "outputs": [],
   "source": [
    "formula = \"boot_size ~ harness_size\"\n",
    "# Daha sonra, formula değişkenini kullanarak formülümüzü tanımlıyoruz. \n",
    "# Bu formülde, boot_size bağımlı değişkeni ile harness_size bağımsız değişkeni arasındaki ilişkiyi belirtiyoruz."
   ]
  },
  {
   "cell_type": "code",
   "execution_count": 8,
   "id": "b0956e0f",
   "metadata": {},
   "outputs": [],
   "source": [
    "model = smf.ols(formula=formula, data=dataset)\n",
    "# Ardından, smf.ols() fonksiyonunu kullanarak bir model oluşturuyoruz. \n",
    "# ols (ordinary least squares) fonksiyonu, en küçük kareler yöntemiyle bir regresyon modeli oluşturmayı sağlar. "
   ]
  },
  {
   "cell_type": "code",
   "execution_count": 9,
   "id": "ca0752de",
   "metadata": {},
   "outputs": [
    {
     "name": "stdout",
     "output_type": "stream",
     "text": [
      "Model seçildi ancak ayarlanmış parametreleri yok. Onu eğitmemiz gerekiyor!\n"
     ]
    }
   ],
   "source": [
    "if not hasattr(model, \"params\"):\n",
    "    print(\"Model seçildi ancak ayarlanmış parametreleri yok. Onu eğitmemiz gerekiyor!\")\n",
    "# Model oluşturulduktan sonra, model nesnesi oluşur, ancak iç parametreleri henüz ayarlanmamıştır. \n",
    "# Bu nedenle, hasattr() fonksiyonuyla params özelliğine sahip olup olmadığını kontrol ediyoruz. \n",
    "# Eğer özelliğe sahip değilse, modelin henüz eğitilmediğini belirten bir mesajı ekrana basıyoruz.    "
   ]
  },
  {
   "cell_type": "markdown",
   "id": "d389e8f0",
   "metadata": {},
   "source": [
    "* OLS modellerinin iki parametresi vardır (eğim ve sapma), ancak bunlar henüz modelimizde ayarlanmamıştır. Bu değerleri bulmak için modelimizi eğitmemiz (uydurmamız) gerekir."
   ]
  },
  {
   "cell_type": "code",
   "execution_count": 12,
   "id": "9dca4b1a",
   "metadata": {},
   "outputs": [],
   "source": [
    "import graphing"
   ]
  },
  {
   "cell_type": "code",
   "execution_count": 13,
   "id": "bdd862c8",
   "metadata": {},
   "outputs": [],
   "source": [
    "fitted_model = model.fit()\n",
    "# model.fit() yöntemini kullanarak modelin eğitimini gerçekleştiriyoruz. "
   ]
  },
  {
   "cell_type": "code",
   "execution_count": 14,
   "id": "f2331949",
   "metadata": {},
   "outputs": [
    {
     "name": "stdout",
     "output_type": "stream",
     "text": [
      "Aşağıdaki model parametreleri bulundu:\n",
      "Çizgi eğimi: 0.5859254167382707\n",
      "Hat kesişi: 5.719109812682602\n"
     ]
    }
   ],
   "source": [
    "print(\"Aşağıdaki model parametreleri bulundu:\\n\" + \n",
    "      f\"Çizgi eğimi: {fitted_model.params[1]}\\n\" +\n",
    "      f\"Hat kesişi: {fitted_model.params[0]}\")\n",
    "# fitted_model.params ifadesi, eğitilmiş modelin parametrelerini içeren bir diziye erişmemizi sağlar. \n",
    "# fitted_model.params[1] ve fitted_model.params[0] ifadeleri, sırasıyla eğitilmiş modelin eğim ve kesme noktası parametrelerini alır."
   ]
  },
  {
   "cell_type": "markdown",
   "id": "7e0317bb",
   "metadata": {},
   "source": [
    "* Model eğitiminin parametrelerini nasıl ayarladığına dikkat edin. Bunları doğrudan yorumlayabiliriz, ancak grafik olarak görmek daha kolaydır:"
   ]
  },
  {
   "cell_type": "code",
   "execution_count": 22,
   "id": "5bdc8ced",
   "metadata": {},
   "outputs": [
    {
     "data": {
      "image/png": "[encoded data removed]",
      "text/plain": [
       "<Figure size 640x480 with 1 Axes>"
      ]
     },
     "metadata": {},
     "output_type": "display_data"
    }
   ],
   "source": [
    "import matplotlib.pyplot as plt\n",
    "\n",
    "plt.scatter(dataset[\"harness_size\"], dataset[\"boot_size\"])\n",
    "plt.plot(dataset[\"harness_size\"], fitted_model.params[1] * dataset[\"harness_size\"] + fitted_model.params[0], color='red')\n",
    "plt.xlabel(\"harness_size\")\n",
    "plt.ylabel(\"boot_size\")\n",
    "plt.show()"
   ]
  },
  {
   "cell_type": "markdown",
   "id": "b10981f9",
   "metadata": {},
   "source": [
    "* Yukarıdaki grafik, orijinal verilerimizi, içinden kırmızı bir çizgi geçen daireler olarak göstermektedir. Kırmızı çizgi modelimizi gösteriyor.\n",
    "* Modelimizi anlamak için bu çizgiye bakabiliriz. Örneğin, emniyet kemeri boyutu arttıkça tahmini bot boyutunun da artacağını görebiliriz."
   ]
  },
  {
   "cell_type": "markdown",
   "id": "3ca030f2",
   "metadata": {},
   "source": [
    "* Artık eğitimi bitirdiğimize göre, modelimizi kullanarak bir köpeğin koşum ölçüsünden çizme boyutunu tahmin edebiliriz."
   ]
  },
  {
   "cell_type": "code",
   "execution_count": 18,
   "id": "4849c57e",
   "metadata": {},
   "outputs": [],
   "source": [
    "harness_size = {\"harness_size\" : [52.5]}"
   ]
  },
  {
   "cell_type": "code",
   "execution_count": 19,
   "id": "1c07af83",
   "metadata": {},
   "outputs": [],
   "source": [
    "approximate_boot_size = fitted_model.predict(harness_size)\n",
    "# fitted_model.predict() yöntemini kullanarak, eğitilmiş modele harness_size değerini vererek tahmin yapmaktayız."
   ]
  },
  {
   "cell_type": "code",
   "execution_count": 20,
   "id": "bdcbdc0c",
   "metadata": {},
   "outputs": [
    {
     "name": "stdout",
     "output_type": "stream",
     "text": [
      "Tahmini boot_size:  36.48019419144181\n"
     ]
    }
   ],
   "source": [
    "print(\"Tahmini boot_size: \", approximate_boot_size[0])"
   ]
  }
 ],
 "metadata": {
  "kernelspec": {
   "display_name": "Python 3 (ipykernel)",
   "language": "python",
   "name": "python3"
  },
  "language_info": {
   "codemirror_mode": {
    "name": "ipython",
    "version": 3
   },
   "file_extension": ".py",
   "mimetype": "text/x-python",
   "name": "python",
   "nbconvert_exporter": "python",
   "pygments_lexer": "ipython3",
   "version": "3.10.9"
  }
 },
 "nbformat": 4,
 "nbformat_minor": 5
}
