{
 "cells": [
  {
   "cell_type": "markdown",
   "id": "f94a556c",
   "metadata": {},
   "source": [
    "* Modeli yalnızca bir kez eğitmek, ardından bu modeli çevrimiçi mağazamızı çalıştıran sunucuya yüklemek istiyoruz. Model, internetten indirdiğimiz bir veri seti üzerinde eğitilmiş olsa da, aslında bu veri setinde olmayan müşterilerimizin köpeklerinin önyükleme boyutunu tahmin etmek için kullanmak istiyoruz!"
   ]
  },
  {
   "cell_type": "code",
   "execution_count": 1,
   "id": "10ef5ed5",
   "metadata": {},
   "outputs": [],
   "source": [
    "import pandas"
   ]
  },
  {
   "cell_type": "code",
   "execution_count": 2,
   "id": "8d7d1775",
   "metadata": {},
   "outputs": [
    {
     "data": {
      "text/html": [
       "<div>\n",
       "<style scoped>\n",
       "    .dataframe tbody tr th:only-of-type {\n",
       "        vertical-align: middle;\n",
       "    }\n",
       "\n",
       "    .dataframe tbody tr th {\n",
       "        vertical-align: top;\n",
       "    }\n",
       "\n",
       "    .dataframe thead th {\n",
       "        text-align: right;\n",
       "    }\n",
       "</style>\n",
       "<table border=\"1\" class=\"dataframe\">\n",
       "  <thead>\n",
       "    <tr style=\"text-align: right;\">\n",
       "      <th></th>\n",
       "      <th>boot_size</th>\n",
       "      <th>harness_size</th>\n",
       "      <th>sex</th>\n",
       "      <th>age_years</th>\n",
       "    </tr>\n",
       "  </thead>\n",
       "  <tbody>\n",
       "    <tr>\n",
       "      <th>0</th>\n",
       "      <td>39</td>\n",
       "      <td>58</td>\n",
       "      <td>male</td>\n",
       "      <td>12.0</td>\n",
       "    </tr>\n",
       "    <tr>\n",
       "      <th>1</th>\n",
       "      <td>38</td>\n",
       "      <td>58</td>\n",
       "      <td>male</td>\n",
       "      <td>9.6</td>\n",
       "    </tr>\n",
       "    <tr>\n",
       "      <th>2</th>\n",
       "      <td>37</td>\n",
       "      <td>52</td>\n",
       "      <td>female</td>\n",
       "      <td>8.6</td>\n",
       "    </tr>\n",
       "    <tr>\n",
       "      <th>3</th>\n",
       "      <td>39</td>\n",
       "      <td>58</td>\n",
       "      <td>male</td>\n",
       "      <td>10.2</td>\n",
       "    </tr>\n",
       "    <tr>\n",
       "      <th>4</th>\n",
       "      <td>38</td>\n",
       "      <td>57</td>\n",
       "      <td>male</td>\n",
       "      <td>7.8</td>\n",
       "    </tr>\n",
       "  </tbody>\n",
       "</table>\n",
       "</div>"
      ],
      "text/plain": [
       "   boot_size  harness_size     sex  age_years\n",
       "0         39            58    male       12.0\n",
       "1         38            58    male        9.6\n",
       "2         37            52  female        8.6\n",
       "3         39            58    male       10.2\n",
       "4         38            57    male        7.8"
      ]
     },
     "execution_count": 2,
     "metadata": {},
     "output_type": "execute_result"
    }
   ],
   "source": [
    "data = pandas.read_csv('doggy-boot-harness.csv')\n",
    "data.head()"
   ]
  },
  {
   "cell_type": "markdown",
   "id": "3ab9bf08",
   "metadata": {},
   "source": [
    "#### Model oluşturma ve eğitme"
   ]
  },
  {
   "cell_type": "code",
   "execution_count": 3,
   "id": "3659275c",
   "metadata": {},
   "outputs": [],
   "source": [
    "import statsmodels.formula.api as smf"
   ]
  },
  {
   "cell_type": "code",
   "execution_count": 4,
   "id": "01dbab09",
   "metadata": {},
   "outputs": [
    {
     "name": "stdout",
     "output_type": "stream",
     "text": [
      "Model eğitildi!\n"
     ]
    }
   ],
   "source": [
    "model = smf.ols(formula=\"boot_size ~ harness_size\", data=data).fit()\n",
    "# Bağımlı değişkenin (boot_size) bağımsız değişken (harness_size) ile olan ilişkisini ifade ediyoruz.\n",
    "\n",
    "print(\"Model eğitildi!\")"
   ]
  },
  {
   "cell_type": "markdown",
   "id": "9de30c69",
   "metadata": {},
   "source": [
    "#### Modeli kaydedin ve yükleyin\n",
    "* Modelimiz kullanıma hazır ama henüz ihtiyacımız yok. Diske kaydedelim."
   ]
  },
  {
   "cell_type": "code",
   "execution_count": 5,
   "id": "941eceae",
   "metadata": {},
   "outputs": [],
   "source": [
    "import joblib\n",
    "# Bu modül, nesneleri diskte kaydetmek ve yüklemek için kullanılan bir işleve sahiptir."
   ]
  },
  {
   "cell_type": "code",
   "execution_count": 6,
   "id": "3741f012",
   "metadata": {},
   "outputs": [
    {
     "name": "stdout",
     "output_type": "stream",
     "text": [
      "Model kaydedildi!\n"
     ]
    }
   ],
   "source": [
    "model_filename = './avalanche_dog_boot_model.pkl'\n",
    "joblib.dump(model, model_filename)\n",
    "print(\"Model kaydedildi!\")"
   ]
  },
  {
   "cell_type": "code",
   "execution_count": 7,
   "id": "19c5959b",
   "metadata": {},
   "outputs": [
    {
     "name": "stdout",
     "output_type": "stream",
     "text": [
      "Aşağıdaki parametrelere sahip bir model yükledik:\n",
      "Intercept       5.719110\n",
      "harness_size    0.585925\n",
      "dtype: float64\n"
     ]
    }
   ],
   "source": [
    "model_loaded = joblib.load(model_filename)\n",
    "\n",
    "print(\"Aşağıdaki parametrelere sahip bir model yükledik:\")\n",
    "print(model_loaded.params)"
   ]
  },
  {
   "cell_type": "markdown",
   "id": "c62939c0",
   "metadata": {},
   "source": [
    "#### Bir araya getir\n",
    "* Web sitemizde, müşterimizin köpeğinin koşum takımını alıp daha önce eğittiğimiz modeli kullanarak köpeğinin çizme boyutunu hesaplamak isteyeceğiz.\n",
    "* Modeli diskten yükleyen ve ardından bunu müşterimizin köpeğinin çizme boyutunu tahmin etmek için kullanan bir işlev yapmak için her şeyi bir araya getirelim."
   ]
  },
  {
   "cell_type": "code",
   "execution_count": 10,
   "id": "6dcaa6b8",
   "metadata": {},
   "outputs": [],
   "source": [
    "# Modelimizi yükleyen ve kullanan bir fonksiyon yazalım\n",
    "def load_model_and_predict(harness_size):\n",
    "    '''\n",
    "    Bu işlev önceden eğitilmiş bir model yükler. \n",
    "    O köpeğe uyacak botların boyutunu tahmin etmek için \n",
    "    modeli müşterinin köpeğinin koşum takımı boyutuyla kullanır.\n",
    "    \n",
    "    harness_size: Köpek koşum takımı boyutu, cm cinsinden\n",
    "    '''\n",
    "    \n",
    "    # Modeli dosyadan yükleyin ve bununla ilgili temel bilgileri yazdırın\n",
    "    loaded_model = joblib.load(model_filename)\n",
    "    \n",
    "    print(\"Aşağıdaki parametrelere sahip bir model yükledik:\")\n",
    "    print(model_loaded.params)\n",
    "    \n",
    "    # Model için verileri hazırlayın\n",
    "    inputs = {\"harness_size\":[harness_size]}\n",
    "    \n",
    "    # Tahmin yapmak için modeli kullanın\n",
    "    predicted_boot_size = loaded_model.predict(inputs)[0]\n",
    "    \n",
    "    return predicted_boot_size"
   ]
  },
  {
   "cell_type": "code",
   "execution_count": 11,
   "id": "68b2e62d",
   "metadata": {},
   "outputs": [
    {
     "name": "stdout",
     "output_type": "stream",
     "text": [
      "Aşağıdaki parametrelere sahip bir model yükledik:\n",
      "Intercept       5.719110\n",
      "harness_size    0.585925\n",
      "dtype: float64\n",
      "Öngörülen köpek çizme boyutu: 32.08575356590478\n"
     ]
    }
   ],
   "source": [
    "# Modelimizi kullanarak alıştırma yapın\n",
    "predicted_boot_size = load_model_and_predict(45)\n",
    "\n",
    "print(\"Öngörülen köpek çizme boyutu:\", predicted_boot_size)"
   ]
  },
  {
   "cell_type": "markdown",
   "id": "e71b644e",
   "metadata": {},
   "source": [
    "* Son adımımız, yanlış beden köpek botları alıyor olabilecekleri konusunda insanları uyarmak için bunu kullanmaktır.\n",
    "* Örnek olarak, koşum boyutunu, seçilen botların boyutunu kabul eden ve müşteri için bir mesaj döndüren bir işlev yapacağız."
   ]
  },
  {
   "cell_type": "code",
   "execution_count": 15,
   "id": "6c148ae9",
   "metadata": {},
   "outputs": [],
   "source": [
    "def check_size_of_boots(selected_harness_size, selected_boot_size):\n",
    "    '''\n",
    "    Müşterinin makul boyutta bir çift köpek botu seçip seçmediğini hesaplar. \n",
    "    Bu, köpeğin gerçek çizme boyutunu koşum boyutundan tahmin ederek çalışır.\n",
    "\n",
    "    Bu, müşteriye ödemesini tamamlamadan önce gösterilmesi gereken bir mesaj döndürür.\n",
    "\n",
    "    selected_harness_size: Müşterinin satın almak istediği koşum boyutu\n",
    "    selected_boot_size: Müşterinin satın almak istediği köpek botlarının boyutu\n",
    "    '''\n",
    "    \n",
    "    # Müşterinin köpeğinin çizme boyutunu tahmin edin\n",
    "    estimated_boot_size = load_model_and_predict(selected_harness_size)\n",
    "    \n",
    "    # Parçalı ölçü satmadığımız için en yakın tam sayıya yuvarlayın\n",
    "    estimated_boot_size = int(round(estimated_boot_size))\n",
    "    \n",
    "    # Seçilen önyükleme boyutunun uygun olup olmadığını kontrol edin\n",
    "    if selected_boot_size == estimated_boot_size:\n",
    "        # Seçilen çizmeler büyük olasılıkla tamamdır\n",
    "        return f\"Mükemmel seçim! Bu botların çığ köpeğinize çok yakışacağını düşünüyoruz.\"\n",
    "    \n",
    "    if selected_boot_size < estimated_boot_size:\n",
    "        # Seçilen botlar çok küçük olabilir\n",
    "        return f\"Seçtiğiniz çizmeler sizinki kadar büyük bir köpek için ÇOK KÜÇÜK olabilir. {estimated_boot_size} boyutunda bir köpek botu öneriyoruz.\"\n",
    "    \n",
    "    if selected_boot_size > estimated_boot_size:\n",
    "        # Seçilen botlar çok büyük olabilir\n",
    "        return f\"Seçtiğiniz çizmeler sizinki kadar küçük bir köpek için ÇOK BÜYÜK olabilir. {estimated_boot_size} boyutunda bir köpek botu öneriyoruz.\""
   ]
  },
  {
   "cell_type": "code",
   "execution_count": 16,
   "id": "28c2f983",
   "metadata": {},
   "outputs": [
    {
     "name": "stdout",
     "output_type": "stream",
     "text": [
      "Aşağıdaki parametrelere sahip bir model yükledik:\n",
      "Intercept       5.719110\n",
      "harness_size    0.585925\n",
      "dtype: float64\n"
     ]
    },
    {
     "data": {
      "text/plain": [
       "'Seçtiğiniz çizmeler sizinki kadar küçük bir köpek için ÇOK BÜYÜK olabilir. 38 boyutunda bir köpek botu öneriyoruz.'"
      ]
     },
     "execution_count": 16,
     "metadata": {},
     "output_type": "execute_result"
    }
   ],
   "source": [
    "# Yeni uyarı sistemimizi kullanarak pratik yapın\n",
    "check_size_of_boots(selected_harness_size=55, selected_boot_size=39)"
   ]
  }
 ],
 "metadata": {
  "kernelspec": {
   "display_name": "Python 3 (ipykernel)",
   "language": "python",
   "name": "python3"
  },
  "language_info": {
   "codemirror_mode": {
    "name": "ipython",
    "version": 3
   },
   "file_extension": ".py",
   "mimetype": "text/x-python",
   "name": "python",
   "nbconvert_exporter": "python",
   "pygments_lexer": "ipython3",
   "version": "3.10.9"
  }
 },
 "nbformat": 4,
 "nbformat_minor": 5
}
